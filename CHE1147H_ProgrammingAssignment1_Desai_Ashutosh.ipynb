{
  "nbformat": 4,
  "nbformat_minor": 0,
  "metadata": {
    "colab": {
      "name": "CHE1147H_ProgrammingAssignment1_Desai_Ashutosh.ipynb",
      "provenance": [],
      "collapsed_sections": [],
      "toc_visible": true
    },
    "kernelspec": {
      "name": "python3",
      "display_name": "Python 3"
    }
  },
  "cells": [
    {
      "cell_type": "markdown",
      "metadata": {
        "id": "QoR5qgNa4h4m"
      },
      "source": [
        "#CHE1147 - Data Mining in Engineering\n",
        "##Programming Assignment - 1\n",
        "### Student Name: **Ashutosh Desai**\n",
        "###Student Number : **1004774041**"
      ]
    },
    {
      "cell_type": "markdown",
      "metadata": {
        "id": "RYvo8JGu5Jqr"
      },
      "source": [
        "####**1** Python data structures and other essentials\n"
      ]
    },
    {
      "cell_type": "markdown",
      "metadata": {
        "id": "loy8p1DP5ZcS"
      },
      "source": [
        "#####**1.1** Tuples"
      ]
    },
    {
      "cell_type": "code",
      "metadata": {
        "id": "hPvWGcs64Te-"
      },
      "source": [
        "apps_tuple = ('Google','Facebook','Amazon','Netflix','AirBnB','Instagram') #Creating tuple"
      ],
      "execution_count": null,
      "outputs": []
    },
    {
      "cell_type": "code",
      "metadata": {
        "colab": {
          "base_uri": "https://localhost:8080/"
        },
        "id": "0amcog1b5-gf",
        "outputId": "595ac802-f2d2-485d-f462-55ad2dcc34cc"
      },
      "source": [
        "type(apps_tuple) #This shows that \"apps_tuple\" variable is a tuple created earlier."
      ],
      "execution_count": null,
      "outputs": [
        {
          "output_type": "execute_result",
          "data": {
            "text/plain": [
              "tuple"
            ]
          },
          "metadata": {
            "tags": []
          },
          "execution_count": 2
        }
      ]
    },
    {
      "cell_type": "code",
      "metadata": {
        "colab": {
          "base_uri": "https://localhost:8080/",
          "height": 35
        },
        "id": "6bZP7pNd6D2m",
        "outputId": "93d64aa1-a461-4f04-c91c-b787c9624d22"
      },
      "source": [
        "apps_tuple[1] #Extracting the second element"
      ],
      "execution_count": null,
      "outputs": [
        {
          "output_type": "execute_result",
          "data": {
            "application/vnd.google.colaboratory.intrinsic+json": {
              "type": "string"
            },
            "text/plain": [
              "'Facebook'"
            ]
          },
          "metadata": {
            "tags": []
          },
          "execution_count": 3
        }
      ]
    },
    {
      "cell_type": "code",
      "metadata": {
        "colab": {
          "base_uri": "https://localhost:8080/",
          "height": 35
        },
        "id": "e7ONlW7l6nAt",
        "outputId": "80048fae-b426-4397-abef-ad95c85a64d3"
      },
      "source": [
        "apps_tuple[-1] #Extracting the last element"
      ],
      "execution_count": null,
      "outputs": [
        {
          "output_type": "execute_result",
          "data": {
            "application/vnd.google.colaboratory.intrinsic+json": {
              "type": "string"
            },
            "text/plain": [
              "'Instagram'"
            ]
          },
          "metadata": {
            "tags": []
          },
          "execution_count": 4
        }
      ]
    },
    {
      "cell_type": "code",
      "metadata": {
        "colab": {
          "base_uri": "https://localhost:8080/"
        },
        "id": "w6u4EBkS62zK",
        "outputId": "07b8c3dd-907d-4591-d974-a45273bdb28f"
      },
      "source": [
        "apps_tuple[1:4] #Slice elements"
      ],
      "execution_count": null,
      "outputs": [
        {
          "output_type": "execute_result",
          "data": {
            "text/plain": [
              "('Facebook', 'Amazon', 'Netflix')"
            ]
          },
          "metadata": {
            "tags": []
          },
          "execution_count": 5
        }
      ]
    },
    {
      "cell_type": "code",
      "metadata": {
        "id": "JJRXa0IQ6_Hu"
      },
      "source": [
        "#apps_tuple.append('Messenger') #Appending an element to a tuple"
      ],
      "execution_count": null,
      "outputs": []
    },
    {
      "cell_type": "markdown",
      "metadata": {
        "id": "3pFA49xx7K8P"
      },
      "source": [
        "The obsersvation in the earlier cell is that the execution of the line of code has FAILED. This is because tuples are immutable and 'Messenger' can't be added to \"apps_tuple\".\n",
        "\n",
        "The code is displayed as a comment to maintain the continuity of the entire code. The error image is shown below.\n",
        "\n",
        "![image.png](data:image/png;base64,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)"
      ]
    },
    {
      "cell_type": "markdown",
      "metadata": {
        "id": "63egv5yX7lDF"
      },
      "source": [
        "#####**1.2** Lists"
      ]
    },
    {
      "cell_type": "code",
      "metadata": {
        "id": "gHrSa2e77I8s"
      },
      "source": [
        "apps_list = ['Google','Facebook','Amazon','Netflix','AirBnB','Instagram'] #Defining the list"
      ],
      "execution_count": null,
      "outputs": []
    },
    {
      "cell_type": "code",
      "metadata": {
        "colab": {
          "base_uri": "https://localhost:8080/"
        },
        "id": "Y7w_Wp-G71C8",
        "outputId": "01352c88-4c1a-4949-80ed-3a75ff8ce8ca"
      },
      "source": [
        "type(apps_list) #This shows that \"apps_list\" variable is a list created earlier."
      ],
      "execution_count": null,
      "outputs": [
        {
          "output_type": "execute_result",
          "data": {
            "text/plain": [
              "list"
            ]
          },
          "metadata": {
            "tags": []
          },
          "execution_count": 8
        }
      ]
    },
    {
      "cell_type": "code",
      "metadata": {
        "colab": {
          "base_uri": "https://localhost:8080/"
        },
        "id": "fhl6PDol75qV",
        "outputId": "a1b5163b-e0d2-430e-bb64-21b9266f28cf"
      },
      "source": [
        "apps_list[:3] #Initial slice"
      ],
      "execution_count": null,
      "outputs": [
        {
          "output_type": "execute_result",
          "data": {
            "text/plain": [
              "['Google', 'Facebook', 'Amazon']"
            ]
          },
          "metadata": {
            "tags": []
          },
          "execution_count": 9
        }
      ]
    },
    {
      "cell_type": "code",
      "metadata": {
        "colab": {
          "base_uri": "https://localhost:8080/"
        },
        "id": "p2YJxiwv8I7q",
        "outputId": "8c524873-6c07-4b6a-ef2c-21e7b8a9ecfd"
      },
      "source": [
        "apps_list[3:] #Second slice"
      ],
      "execution_count": null,
      "outputs": [
        {
          "output_type": "execute_result",
          "data": {
            "text/plain": [
              "['Netflix', 'AirBnB', 'Instagram']"
            ]
          },
          "metadata": {
            "tags": []
          },
          "execution_count": 10
        }
      ]
    },
    {
      "cell_type": "code",
      "metadata": {
        "colab": {
          "base_uri": "https://localhost:8080/"
        },
        "id": "XYA0YQ_18Tt9",
        "outputId": "f7242bdf-3538-4b42-cd9c-45e0573c404f"
      },
      "source": [
        "apps_list.append('Messenger') #Appending \"Messenger\" to the end of the list\n",
        "apps_list"
      ],
      "execution_count": null,
      "outputs": [
        {
          "output_type": "execute_result",
          "data": {
            "text/plain": [
              "['Google', 'Facebook', 'Amazon', 'Netflix', 'AirBnB', 'Instagram', 'Messenger']"
            ]
          },
          "metadata": {
            "tags": []
          },
          "execution_count": 11
        }
      ]
    },
    {
      "cell_type": "code",
      "metadata": {
        "colab": {
          "base_uri": "https://localhost:8080/"
        },
        "id": "na9DHxap9Yv4",
        "outputId": "e96ff763-906c-4d8a-d1b4-9f936bd4ce51"
      },
      "source": [
        "apps_list.insert(1, 'Youtube') #Inserting 'Youtube' at index position 1.\n",
        "apps_list"
      ],
      "execution_count": null,
      "outputs": [
        {
          "output_type": "execute_result",
          "data": {
            "text/plain": [
              "['Google',\n",
              " 'Youtube',\n",
              " 'Facebook',\n",
              " 'Amazon',\n",
              " 'Netflix',\n",
              " 'AirBnB',\n",
              " 'Instagram',\n",
              " 'Messenger']"
            ]
          },
          "metadata": {
            "tags": []
          },
          "execution_count": 12
        }
      ]
    },
    {
      "cell_type": "code",
      "metadata": {
        "colab": {
          "base_uri": "https://localhost:8080/"
        },
        "id": "tuQ4Lhia8ot_",
        "outputId": "06fd53a6-12f2-4c52-fa64-9258c5aff083"
      },
      "source": [
        "apps_list.remove('Facebook') #Removes \"Facebook\" \n",
        "'Facebook' in apps_list"
      ],
      "execution_count": null,
      "outputs": [
        {
          "output_type": "execute_result",
          "data": {
            "text/plain": [
              "False"
            ]
          },
          "metadata": {
            "tags": []
          },
          "execution_count": 13
        }
      ]
    },
    {
      "cell_type": "code",
      "metadata": {
        "colab": {
          "base_uri": "https://localhost:8080/"
        },
        "id": "KoTpgJiH-hsO",
        "outputId": "e9733d7f-4ad5-45bd-dbe2-9b2b9504726f"
      },
      "source": [
        "list1 = ['Linkedin','Twitter'] #Creating fresh list\n",
        "apps_list = apps_list + list1 #Concatenating both the lists\n",
        "apps_list"
      ],
      "execution_count": null,
      "outputs": [
        {
          "output_type": "execute_result",
          "data": {
            "text/plain": [
              "['Google',\n",
              " 'Youtube',\n",
              " 'Amazon',\n",
              " 'Netflix',\n",
              " 'AirBnB',\n",
              " 'Instagram',\n",
              " 'Messenger',\n",
              " 'Linkedin',\n",
              " 'Twitter']"
            ]
          },
          "metadata": {
            "tags": []
          },
          "execution_count": 14
        }
      ]
    },
    {
      "cell_type": "markdown",
      "metadata": {
        "id": "zPcxMknU-04I"
      },
      "source": [
        "#####**1.3** Dicts"
      ]
    },
    {
      "cell_type": "code",
      "metadata": {
        "colab": {
          "base_uri": "https://localhost:8080/"
        },
        "id": "eRzuofpc-vzD",
        "outputId": "61d8a577-16fb-4195-a525-080e38c8fa45"
      },
      "source": [
        "apps_dict = {'app0':'Google','app1':'Facebook','app2':'Amazon','app3':'Netflix','app4':'AirBnB','app5':'Instagram'} #Creating a new dictionary\n",
        "apps_dict"
      ],
      "execution_count": null,
      "outputs": [
        {
          "output_type": "execute_result",
          "data": {
            "text/plain": [
              "{'app0': 'Google',\n",
              " 'app1': 'Facebook',\n",
              " 'app2': 'Amazon',\n",
              " 'app3': 'Netflix',\n",
              " 'app4': 'AirBnB',\n",
              " 'app5': 'Instagram'}"
            ]
          },
          "metadata": {
            "tags": []
          },
          "execution_count": 15
        }
      ]
    },
    {
      "cell_type": "code",
      "metadata": {
        "colab": {
          "base_uri": "https://localhost:8080/"
        },
        "id": "Gmcb2qYP_qRM",
        "outputId": "e7607e55-ff71-4685-c9ce-3fd18cea7f0e"
      },
      "source": [
        "apps_dict['app1'] = 'Youtube' #Accessing and resplacing a value\n",
        "apps_dict"
      ],
      "execution_count": null,
      "outputs": [
        {
          "output_type": "execute_result",
          "data": {
            "text/plain": [
              "{'app0': 'Google',\n",
              " 'app1': 'Youtube',\n",
              " 'app2': 'Amazon',\n",
              " 'app3': 'Netflix',\n",
              " 'app4': 'AirBnB',\n",
              " 'app5': 'Instagram'}"
            ]
          },
          "metadata": {
            "tags": []
          },
          "execution_count": 16
        }
      ]
    },
    {
      "cell_type": "code",
      "metadata": {
        "colab": {
          "base_uri": "https://localhost:8080/"
        },
        "id": "_tAtROHZAheq",
        "outputId": "89d056a5-b7ff-49aa-8480-267365374d1a"
      },
      "source": [
        "apps_dict['app6'] = 'Messenger' #Append a new key-pair\n",
        "apps_dict"
      ],
      "execution_count": null,
      "outputs": [
        {
          "output_type": "execute_result",
          "data": {
            "text/plain": [
              "{'app0': 'Google',\n",
              " 'app1': 'Youtube',\n",
              " 'app2': 'Amazon',\n",
              " 'app3': 'Netflix',\n",
              " 'app4': 'AirBnB',\n",
              " 'app5': 'Instagram',\n",
              " 'app6': 'Messenger'}"
            ]
          },
          "metadata": {
            "tags": []
          },
          "execution_count": 17
        }
      ]
    },
    {
      "cell_type": "code",
      "metadata": {
        "colab": {
          "base_uri": "https://localhost:8080/"
        },
        "id": "6JihmZBOA1F7",
        "outputId": "e6b19385-e38c-47ab-b289-678fd3aba7dc"
      },
      "source": [
        "apps_dict['app1'] = 'Messenger'\n",
        "apps_dict"
      ],
      "execution_count": null,
      "outputs": [
        {
          "output_type": "execute_result",
          "data": {
            "text/plain": [
              "{'app0': 'Google',\n",
              " 'app1': 'Messenger',\n",
              " 'app2': 'Amazon',\n",
              " 'app3': 'Netflix',\n",
              " 'app4': 'AirBnB',\n",
              " 'app5': 'Instagram',\n",
              " 'app6': 'Messenger'}"
            ]
          },
          "metadata": {
            "tags": []
          },
          "execution_count": 18
        }
      ]
    },
    {
      "cell_type": "markdown",
      "metadata": {
        "id": "ltnCjAPQA7bL"
      },
      "source": [
        "Replaces 'Youtube' value to 'Messenger'. This code overrites the previous value of the particular key."
      ]
    },
    {
      "cell_type": "code",
      "metadata": {
        "colab": {
          "base_uri": "https://localhost:8080/"
        },
        "id": "DGHQN00zBP-y",
        "outputId": "89f59d4d-43a6-44b7-c1b2-e7a6d5dda019"
      },
      "source": [
        "apps_dict['App1'] = 'Facebook'\n",
        "apps_dict"
      ],
      "execution_count": null,
      "outputs": [
        {
          "output_type": "execute_result",
          "data": {
            "text/plain": [
              "{'App1': 'Facebook',\n",
              " 'app0': 'Google',\n",
              " 'app1': 'Messenger',\n",
              " 'app2': 'Amazon',\n",
              " 'app3': 'Netflix',\n",
              " 'app4': 'AirBnB',\n",
              " 'app5': 'Instagram',\n",
              " 'app6': 'Messenger'}"
            ]
          },
          "metadata": {
            "tags": []
          },
          "execution_count": 19
        }
      ]
    },
    {
      "cell_type": "markdown",
      "metadata": {
        "id": "-cYpcXc9BhIw"
      },
      "source": [
        "The code here, creates a new key-value pair of App1-Facebook. This is because 'App1' is a different key name than 'app1'. Python understands it as a new key-value pair and because it starts with a capital A, it is right at the top.  "
      ]
    },
    {
      "cell_type": "code",
      "metadata": {
        "colab": {
          "base_uri": "https://localhost:8080/"
        },
        "id": "tAjPJIE5CIY2",
        "outputId": "f7dd238b-b652-4038-c599-3d80e739937a"
      },
      "source": [
        "del apps_dict['App1']\n",
        "apps_dict"
      ],
      "execution_count": null,
      "outputs": [
        {
          "output_type": "execute_result",
          "data": {
            "text/plain": [
              "{'app0': 'Google',\n",
              " 'app1': 'Messenger',\n",
              " 'app2': 'Amazon',\n",
              " 'app3': 'Netflix',\n",
              " 'app4': 'AirBnB',\n",
              " 'app5': 'Instagram',\n",
              " 'app6': 'Messenger'}"
            ]
          },
          "metadata": {
            "tags": []
          },
          "execution_count": 20
        }
      ]
    },
    {
      "cell_type": "markdown",
      "metadata": {
        "id": "-Q3xIM5ZCQ0J"
      },
      "source": [
        "Deletes the recently added key-value pair from the dictionary."
      ]
    },
    {
      "cell_type": "markdown",
      "metadata": {
        "id": "KIFbR-rPCa1r"
      },
      "source": [
        "#####**1.4** List comprehension"
      ]
    },
    {
      "cell_type": "code",
      "metadata": {
        "colab": {
          "base_uri": "https://localhost:8080/"
        },
        "id": "j7xnsBqSCNcK",
        "outputId": "9b4cb86b-192b-462f-9dea-1bed78e699e4"
      },
      "source": [
        "values = [7,12,9,18,15] #Creating a list\n",
        "S = [x**2 for x in values] #Performing an operation on the list\n",
        "S"
      ],
      "execution_count": null,
      "outputs": [
        {
          "output_type": "execute_result",
          "data": {
            "text/plain": [
              "[49, 144, 81, 324, 225]"
            ]
          },
          "metadata": {
            "tags": []
          },
          "execution_count": 21
        }
      ]
    },
    {
      "cell_type": "markdown",
      "metadata": {
        "id": "T8WOoKERDe-4"
      },
      "source": [
        "#####**1.5** Functions and control flow"
      ]
    },
    {
      "cell_type": "code",
      "metadata": {
        "id": "BtobM_aODk_t"
      },
      "source": [
        "import numpy as np"
      ],
      "execution_count": null,
      "outputs": []
    },
    {
      "cell_type": "code",
      "metadata": {
        "colab": {
          "base_uri": "https://localhost:8080/"
        },
        "id": "v3ebOrcmD9BJ",
        "outputId": "12d34d17-6d93-4ee8-bba8-64ad1cdb5669"
      },
      "source": [
        "sample = np.random.random_integers(600,high=900,size=10) #Array creation"
      ],
      "execution_count": null,
      "outputs": [
        {
          "output_type": "stream",
          "text": [
            "/usr/local/lib/python3.6/dist-packages/ipykernel_launcher.py:1: DeprecationWarning: This function is deprecated. Please call randint(600, 900 + 1) instead\n",
            "  \"\"\"Entry point for launching an IPython kernel.\n"
          ],
          "name": "stderr"
        }
      ]
    },
    {
      "cell_type": "code",
      "metadata": {
        "colab": {
          "base_uri": "https://localhost:8080/"
        },
        "id": "wXr2QM2YEyfR",
        "outputId": "f9ea2e14-3349-4f4a-a6cb-6d2273008e1d"
      },
      "source": [
        "sample"
      ],
      "execution_count": null,
      "outputs": [
        {
          "output_type": "execute_result",
          "data": {
            "text/plain": [
              "array([791, 885, 772, 874, 664, 721, 784, 894, 684, 852])"
            ]
          },
          "metadata": {
            "tags": []
          },
          "execution_count": 24
        }
      ]
    },
    {
      "cell_type": "code",
      "metadata": {
        "id": "kfWpsmz5E133"
      },
      "source": [
        "#Function definition\n",
        "def credit_score(sample):\n",
        "  ret = []\n",
        "  for i in sample:\n",
        "    if i>600 and i<700:\n",
        "      ret.append('Low')\n",
        "    elif i>700 and i<800:\n",
        "      ret.append('Medium')\n",
        "    else:\n",
        "      ret.append('High')\n",
        "  return ret\n"
      ],
      "execution_count": null,
      "outputs": []
    },
    {
      "cell_type": "code",
      "metadata": {
        "colab": {
          "base_uri": "https://localhost:8080/"
        },
        "id": "4dk6L1X1GLPl",
        "outputId": "88fda408-e9e8-48ba-e066-edd7ad18e702"
      },
      "source": [
        "result = credit_score(sample) #Using the defined function on the array\n",
        "result"
      ],
      "execution_count": null,
      "outputs": [
        {
          "output_type": "execute_result",
          "data": {
            "text/plain": [
              "['Medium',\n",
              " 'High',\n",
              " 'Medium',\n",
              " 'High',\n",
              " 'Low',\n",
              " 'Medium',\n",
              " 'Medium',\n",
              " 'High',\n",
              " 'Low',\n",
              " 'High']"
            ]
          },
          "metadata": {
            "tags": []
          },
          "execution_count": 26
        }
      ]
    },
    {
      "cell_type": "markdown",
      "metadata": {
        "id": "Dvhu1Y0eGWf8"
      },
      "source": [
        "####**2** Linear algebra in Numpy"
      ]
    },
    {
      "cell_type": "markdown",
      "metadata": {
        "id": "m7WoMk0VGe4O"
      },
      "source": [
        "#####**2.1** Matrix calculations"
      ]
    },
    {
      "cell_type": "code",
      "metadata": {
        "colab": {
          "base_uri": "https://localhost:8080/"
        },
        "id": "iGHzoa7XGQMw",
        "outputId": "f5db9c3b-cd15-4a7d-b49f-d1ea8eddbda5"
      },
      "source": [
        "#1\n",
        "A = np.array([[2,1],[1,1],[2,3]])\n",
        "A.shape"
      ],
      "execution_count": null,
      "outputs": [
        {
          "output_type": "execute_result",
          "data": {
            "text/plain": [
              "(3, 2)"
            ]
          },
          "metadata": {
            "tags": []
          },
          "execution_count": 27
        }
      ]
    },
    {
      "cell_type": "code",
      "metadata": {
        "colab": {
          "base_uri": "https://localhost:8080/"
        },
        "id": "kwUfozeYHebY",
        "outputId": "16cbd10a-d348-4749-a8f0-0f4bcce560f0"
      },
      "source": [
        "B = np.array([[-4,1],[3,-1],[-2,1]])\n",
        "B.shape"
      ],
      "execution_count": null,
      "outputs": [
        {
          "output_type": "execute_result",
          "data": {
            "text/plain": [
              "(3, 2)"
            ]
          },
          "metadata": {
            "tags": []
          },
          "execution_count": 28
        }
      ]
    },
    {
      "cell_type": "code",
      "metadata": {
        "colab": {
          "base_uri": "https://localhost:8080/"
        },
        "id": "5cK0lxpWHurV",
        "outputId": "3b705b75-5f8b-4053-a21a-d6dee1535e7f"
      },
      "source": [
        "2*A"
      ],
      "execution_count": null,
      "outputs": [
        {
          "output_type": "execute_result",
          "data": {
            "text/plain": [
              "array([[4, 2],\n",
              "       [2, 2],\n",
              "       [4, 6]])"
            ]
          },
          "metadata": {
            "tags": []
          },
          "execution_count": 29
        }
      ]
    },
    {
      "cell_type": "code",
      "metadata": {
        "colab": {
          "base_uri": "https://localhost:8080/"
        },
        "id": "xg_PLKMKHwoH",
        "outputId": "347a058b-d40c-4b72-9bdb-52f456caf3c4"
      },
      "source": [
        "-3*B"
      ],
      "execution_count": null,
      "outputs": [
        {
          "output_type": "execute_result",
          "data": {
            "text/plain": [
              "array([[12, -3],\n",
              "       [-9,  3],\n",
              "       [ 6, -3]])"
            ]
          },
          "metadata": {
            "tags": []
          },
          "execution_count": 30
        }
      ]
    },
    {
      "cell_type": "code",
      "metadata": {
        "colab": {
          "base_uri": "https://localhost:8080/"
        },
        "id": "Z2OoUClhH1Jf",
        "outputId": "a833c618-fa4d-4e43-b9f4-2224e25988cf"
      },
      "source": [
        "A+B"
      ],
      "execution_count": null,
      "outputs": [
        {
          "output_type": "execute_result",
          "data": {
            "text/plain": [
              "array([[-2,  2],\n",
              "       [ 4,  0],\n",
              "       [ 0,  4]])"
            ]
          },
          "metadata": {
            "tags": []
          },
          "execution_count": 31
        }
      ]
    },
    {
      "cell_type": "code",
      "metadata": {
        "colab": {
          "base_uri": "https://localhost:8080/"
        },
        "id": "l9zx2tokH3nX",
        "outputId": "f8ad8948-4204-4278-ebab-5802f195f806"
      },
      "source": [
        "#2\n",
        "A = np.array([[2,-6],[-4,0],[1,5]])\n",
        "A.shape"
      ],
      "execution_count": null,
      "outputs": [
        {
          "output_type": "execute_result",
          "data": {
            "text/plain": [
              "(3, 2)"
            ]
          },
          "metadata": {
            "tags": []
          },
          "execution_count": 32
        }
      ]
    },
    {
      "cell_type": "code",
      "metadata": {
        "colab": {
          "base_uri": "https://localhost:8080/"
        },
        "id": "hKUM2Tc8I94D",
        "outputId": "4320f51c-c49a-4032-efd5-c0401757b23f"
      },
      "source": [
        "B = np.array([[1,1],[2,3]])\n",
        "B.shape"
      ],
      "execution_count": null,
      "outputs": [
        {
          "output_type": "execute_result",
          "data": {
            "text/plain": [
              "(2, 2)"
            ]
          },
          "metadata": {
            "tags": []
          },
          "execution_count": 33
        }
      ]
    },
    {
      "cell_type": "code",
      "metadata": {
        "colab": {
          "base_uri": "https://localhost:8080/"
        },
        "id": "HyFP8BV3JWKS",
        "outputId": "f3dea1a1-c9df-43c3-fee1-ce425ea36753"
      },
      "source": [
        "np.dot(A,B)"
      ],
      "execution_count": null,
      "outputs": [
        {
          "output_type": "execute_result",
          "data": {
            "text/plain": [
              "array([[-10, -16],\n",
              "       [ -4,  -4],\n",
              "       [ 11,  16]])"
            ]
          },
          "metadata": {
            "tags": []
          },
          "execution_count": 34
        }
      ]
    },
    {
      "cell_type": "code",
      "metadata": {
        "colab": {
          "base_uri": "https://localhost:8080/"
        },
        "id": "OCU_uutnJXWV",
        "outputId": "c9fe3eaf-ad30-49d4-992b-2d0f29f7c805"
      },
      "source": [
        "np.linalg.inv(B)"
      ],
      "execution_count": null,
      "outputs": [
        {
          "output_type": "execute_result",
          "data": {
            "text/plain": [
              "array([[ 3., -1.],\n",
              "       [-2.,  1.]])"
            ]
          },
          "metadata": {
            "tags": []
          },
          "execution_count": 35
        }
      ]
    },
    {
      "cell_type": "code",
      "metadata": {
        "colab": {
          "base_uri": "https://localhost:8080/"
        },
        "id": "WkQMlgYeJa39",
        "outputId": "63389ef1-58e3-4fe1-ee47-60bd30fe9424"
      },
      "source": [
        "#3\n",
        "A = np.array([[1,0,4,1],[-2,1,-3,2],[0,0,0,2],[3,2,1,-1]])\n",
        "A"
      ],
      "execution_count": null,
      "outputs": [
        {
          "output_type": "execute_result",
          "data": {
            "text/plain": [
              "array([[ 1,  0,  4,  1],\n",
              "       [-2,  1, -3,  2],\n",
              "       [ 0,  0,  0,  2],\n",
              "       [ 3,  2,  1, -1]])"
            ]
          },
          "metadata": {
            "tags": []
          },
          "execution_count": 36
        }
      ]
    },
    {
      "cell_type": "code",
      "metadata": {
        "colab": {
          "base_uri": "https://localhost:8080/"
        },
        "id": "kpGGE5QfKdqm",
        "outputId": "57c19004-f359-4f69-901a-bebf74e3fad9"
      },
      "source": [
        "A_new = np.where(abs(A) > 3, 3, A)\n",
        "A_new"
      ],
      "execution_count": null,
      "outputs": [
        {
          "output_type": "execute_result",
          "data": {
            "text/plain": [
              "array([[ 1,  0,  3,  1],\n",
              "       [-2,  1, -3,  2],\n",
              "       [ 0,  0,  0,  2],\n",
              "       [ 3,  2,  1, -1]])"
            ]
          },
          "metadata": {
            "tags": []
          },
          "execution_count": 37
        }
      ]
    },
    {
      "cell_type": "code",
      "metadata": {
        "colab": {
          "base_uri": "https://localhost:8080/"
        },
        "id": "ldaXDuQuKk3u",
        "outputId": "841d44a1-1c21-4ad9-8dc3-5dd2ee4cf12c"
      },
      "source": [
        "np.linalg.det(A)"
      ],
      "execution_count": null,
      "outputs": [
        {
          "output_type": "execute_result",
          "data": {
            "text/plain": [
              "42.00000000000001"
            ]
          },
          "metadata": {
            "tags": []
          },
          "execution_count": 38
        }
      ]
    },
    {
      "cell_type": "markdown",
      "metadata": {
        "id": "4EgxrYUDOWEk"
      },
      "source": [
        "#####**2.2** Norms and eigenvalues"
      ]
    },
    {
      "cell_type": "code",
      "metadata": {
        "id": "1-LYa4YBp3qi"
      },
      "source": [
        "from numpy import linalg as LA"
      ],
      "execution_count": null,
      "outputs": []
    },
    {
      "cell_type": "code",
      "metadata": {
        "colab": {
          "base_uri": "https://localhost:8080/"
        },
        "id": "E53kPDoKOcN-",
        "outputId": "e5bc6c29-e8d8-41f0-d6c4-2d8e47d2995e"
      },
      "source": [
        "#1\n",
        "x1 = np.array([1,-2,3])\n",
        "print(x1)\n",
        "print('\\n')\n",
        "print('Euclidean norm:\\n',LA.norm(x1)) #Frobenius norm or Euclidean norm\n",
        "print('Maximum:\\n',LA.norm(x1,np.inf)) #Maximum"
      ],
      "execution_count": null,
      "outputs": [
        {
          "output_type": "stream",
          "text": [
            "[ 1 -2  3]\n",
            "\n",
            "\n",
            "Euclidean norm:\n",
            " 3.7416573867739413\n",
            "Maximum:\n",
            " 3.0\n"
          ],
          "name": "stdout"
        }
      ]
    },
    {
      "cell_type": "code",
      "metadata": {
        "colab": {
          "base_uri": "https://localhost:8080/"
        },
        "id": "VtlBcFxWpY_6",
        "outputId": "63acd440-b2d9-4bb0-8c2e-da35f2268a97"
      },
      "source": [
        "x2 = np.array([2,0,-1,2])\n",
        "print(x2)\n",
        "print('\\n')\n",
        "print('Euclidean norm:\\n',LA.norm(x2)) #Frobenius norm or Euclidean norm\n",
        "print('Maximum:\\n',LA.norm(x2,np.inf)) #Maximum"
      ],
      "execution_count": null,
      "outputs": [
        {
          "output_type": "stream",
          "text": [
            "[ 2  0 -1  2]\n",
            "\n",
            "\n",
            "Euclidean norm:\n",
            " 3.0\n",
            "Maximum:\n",
            " 2.0\n"
          ],
          "name": "stdout"
        }
      ]
    },
    {
      "cell_type": "code",
      "metadata": {
        "colab": {
          "base_uri": "https://localhost:8080/"
        },
        "id": "MG23zX1FqS2N",
        "outputId": "91a2840b-b760-498b-bf3c-f4bcfa42ea6d"
      },
      "source": [
        "x3 = np.array([0,1,-4,2,-1])\n",
        "print(x3)\n",
        "print('\\n')\n",
        "print('Euclidean norm:\\n',LA.norm(x3)) #Frobenius norm or Euclidean norm\n",
        "print('Maximum:\\n',LA.norm(x3,np.inf)) #Maximum"
      ],
      "execution_count": null,
      "outputs": [
        {
          "output_type": "stream",
          "text": [
            "[ 0  1 -4  2 -1]\n",
            "\n",
            "\n",
            "Euclidean norm:\n",
            " 4.69041575982343\n",
            "Maximum:\n",
            " 4.0\n"
          ],
          "name": "stdout"
        }
      ]
    },
    {
      "cell_type": "code",
      "metadata": {
        "colab": {
          "base_uri": "https://localhost:8080/"
        },
        "id": "yjN1YpJlqvL7",
        "outputId": "ab96120a-bb78-49f3-bd4c-1bfc795639d3"
      },
      "source": [
        "#2\n",
        "A1 = np.array([[1,-2],[4,3]])\n",
        "A2 = np.array([[1,0,2],[0,1,-1],[-1,1,1]])\n",
        "print(A1)\n",
        "print(A2)"
      ],
      "execution_count": null,
      "outputs": [
        {
          "output_type": "stream",
          "text": [
            "[[ 1 -2]\n",
            " [ 4  3]]\n",
            "[[ 1  0  2]\n",
            " [ 0  1 -1]\n",
            " [-1  1  1]]\n"
          ],
          "name": "stdout"
        }
      ]
    },
    {
      "cell_type": "code",
      "metadata": {
        "colab": {
          "base_uri": "https://localhost:8080/"
        },
        "id": "A_d10pAMro7U",
        "outputId": "f52c49d5-67b8-4325-8e14-7d513c9eb040"
      },
      "source": [
        "print('L2 norm of A1 matrix:\\n',LA.norm(A1))\n",
        "print('L infinity norm of A1 matrix:\\n',LA.norm(A1,np.inf))\n",
        "print('\\n')\n",
        "print('L2 norm of A2 matrix:\\n',LA.norm(A2))\n",
        "print('L infinity norm of A2 matrix:\\n',LA.norm(A2,np.inf))"
      ],
      "execution_count": null,
      "outputs": [
        {
          "output_type": "stream",
          "text": [
            "L2 norm of A1 matrix:\n",
            " 5.477225575051661\n",
            "L infinity norm of A1 matrix:\n",
            " 7.0\n",
            "\n",
            "\n",
            "L2 norm of A2 matrix:\n",
            " 3.1622776601683795\n",
            "L infinity norm of A2 matrix:\n",
            " 3.0\n"
          ],
          "name": "stdout"
        }
      ]
    },
    {
      "cell_type": "code",
      "metadata": {
        "colab": {
          "base_uri": "https://localhost:8080/"
        },
        "id": "K7A6qXnksd3W",
        "outputId": "a4382c70-94e2-4aa0-f099-2e130a21aa86"
      },
      "source": [
        "#3\n",
        "A = np.array([[-2,-2,3],[-10,-1,6],[10,-2,-9]])\n",
        "print(A)"
      ],
      "execution_count": null,
      "outputs": [
        {
          "output_type": "stream",
          "text": [
            "[[ -2  -2   3]\n",
            " [-10  -1   6]\n",
            " [ 10  -2  -9]]\n"
          ],
          "name": "stdout"
        }
      ]
    },
    {
      "cell_type": "code",
      "metadata": {
        "colab": {
          "base_uri": "https://localhost:8080/"
        },
        "id": "Az5w39n4ss7c",
        "outputId": "fc165871-b8d8-4b30-ac42-674e3ae11e25"
      },
      "source": [
        "w,v = LA.eig(A)\n",
        "print('Eigenvalues for matrix A:\\n',w)"
      ],
      "execution_count": null,
      "outputs": [
        {
          "output_type": "stream",
          "text": [
            "Eigenvalues for matrix A:\n",
            " [-12.   3.  -3.]\n"
          ],
          "name": "stdout"
        }
      ]
    },
    {
      "cell_type": "markdown",
      "metadata": {
        "id": "rFQuOcmItv4m"
      },
      "source": [
        "####**3** Pandas manipulations"
      ]
    },
    {
      "cell_type": "code",
      "metadata": {
        "colab": {
          "base_uri": "https://localhost:8080/",
          "height": 402
        },
        "id": "cA14PFXIuDFm",
        "outputId": "35548e73-9d6a-44aa-af6b-bea716ee193b"
      },
      "source": [
        "import pandas as pd\n",
        "df = pd.read_excel('Gas_prices.xlsx') #Importing the file\n",
        "df"
      ],
      "execution_count": null,
      "outputs": [
        {
          "output_type": "execute_result",
          "data": {
            "text/html": [
              "<div>\n",
              "<style scoped>\n",
              "    .dataframe tbody tr th:only-of-type {\n",
              "        vertical-align: middle;\n",
              "    }\n",
              "\n",
              "    .dataframe tbody tr th {\n",
              "        vertical-align: top;\n",
              "    }\n",
              "\n",
              "    .dataframe thead th {\n",
              "        text-align: right;\n",
              "    }\n",
              "</style>\n",
              "<table border=\"1\" class=\"dataframe\">\n",
              "  <thead>\n",
              "    <tr style=\"text-align: right;\">\n",
              "      <th></th>\n",
              "      <th>Date</th>\n",
              "      <th>Price_pl</th>\n",
              "    </tr>\n",
              "  </thead>\n",
              "  <tbody>\n",
              "    <tr>\n",
              "      <th>0</th>\n",
              "      <td>12/11/2015</td>\n",
              "      <td>1.049</td>\n",
              "    </tr>\n",
              "    <tr>\n",
              "      <th>1</th>\n",
              "      <td>19/11/2015</td>\n",
              "      <td>0.999</td>\n",
              "    </tr>\n",
              "    <tr>\n",
              "      <th>2</th>\n",
              "      <td>7/12/2015</td>\n",
              "      <td>0.999</td>\n",
              "    </tr>\n",
              "    <tr>\n",
              "      <th>3</th>\n",
              "      <td>19/12/2015</td>\n",
              "      <td>1.019</td>\n",
              "    </tr>\n",
              "    <tr>\n",
              "      <th>4</th>\n",
              "      <td>04/01/2016</td>\n",
              "      <td>1.019</td>\n",
              "    </tr>\n",
              "    <tr>\n",
              "      <th>...</th>\n",
              "      <td>...</td>\n",
              "      <td>...</td>\n",
              "    </tr>\n",
              "    <tr>\n",
              "      <th>77</th>\n",
              "      <td>17/10/2018</td>\n",
              "      <td>1.209</td>\n",
              "    </tr>\n",
              "    <tr>\n",
              "      <th>78</th>\n",
              "      <td>01/11/2018</td>\n",
              "      <td>1.196</td>\n",
              "    </tr>\n",
              "    <tr>\n",
              "      <th>79</th>\n",
              "      <td>12/11/2018</td>\n",
              "      <td>1.126</td>\n",
              "    </tr>\n",
              "    <tr>\n",
              "      <th>80</th>\n",
              "      <td>27/11/2018</td>\n",
              "      <td>1.059</td>\n",
              "    </tr>\n",
              "    <tr>\n",
              "      <th>81</th>\n",
              "      <td>06/12/2018</td>\n",
              "      <td>1.016</td>\n",
              "    </tr>\n",
              "  </tbody>\n",
              "</table>\n",
              "<p>82 rows × 2 columns</p>\n",
              "</div>"
            ],
            "text/plain": [
              "          Date  Price_pl\n",
              "0   12/11/2015     1.049\n",
              "1   19/11/2015     0.999\n",
              "2    7/12/2015     0.999\n",
              "3   19/12/2015     1.019\n",
              "4   04/01/2016     1.019\n",
              "..         ...       ...\n",
              "77  17/10/2018     1.209\n",
              "78  01/11/2018     1.196\n",
              "79  12/11/2018     1.126\n",
              "80  27/11/2018     1.059\n",
              "81  06/12/2018     1.016\n",
              "\n",
              "[82 rows x 2 columns]"
            ]
          },
          "metadata": {
            "tags": []
          },
          "execution_count": 47
        }
      ]
    },
    {
      "cell_type": "code",
      "metadata": {
        "colab": {
          "base_uri": "https://localhost:8080/"
        },
        "id": "5LfAp48xumjZ",
        "outputId": "47bb2308-3aeb-4e82-df7b-92dc2e9c5b45"
      },
      "source": [
        "df.isnull().values.any() #Check for NaN values. (True - NaN values exist)"
      ],
      "execution_count": null,
      "outputs": [
        {
          "output_type": "execute_result",
          "data": {
            "text/plain": [
              "True"
            ]
          },
          "metadata": {
            "tags": []
          },
          "execution_count": 48
        }
      ]
    },
    {
      "cell_type": "code",
      "metadata": {
        "colab": {
          "base_uri": "https://localhost:8080/"
        },
        "id": "tTarSucn4GJR",
        "outputId": "d2b05c75-8d88-4ca5-bd62-464ea0951c11"
      },
      "source": [
        "len(df['Price_pl'])"
      ],
      "execution_count": null,
      "outputs": [
        {
          "output_type": "execute_result",
          "data": {
            "text/plain": [
              "82"
            ]
          },
          "metadata": {
            "tags": []
          },
          "execution_count": 49
        }
      ]
    },
    {
      "cell_type": "code",
      "metadata": {
        "colab": {
          "base_uri": "https://localhost:8080/",
          "height": 639
        },
        "id": "CaGeD9z398xa",
        "outputId": "0ff6d50b-ccbb-412e-c25e-70e2ffe2cf34"
      },
      "source": [
        "df.head(20) #13th value is NaN here"
      ],
      "execution_count": null,
      "outputs": [
        {
          "output_type": "execute_result",
          "data": {
            "text/html": [
              "<div>\n",
              "<style scoped>\n",
              "    .dataframe tbody tr th:only-of-type {\n",
              "        vertical-align: middle;\n",
              "    }\n",
              "\n",
              "    .dataframe tbody tr th {\n",
              "        vertical-align: top;\n",
              "    }\n",
              "\n",
              "    .dataframe thead th {\n",
              "        text-align: right;\n",
              "    }\n",
              "</style>\n",
              "<table border=\"1\" class=\"dataframe\">\n",
              "  <thead>\n",
              "    <tr style=\"text-align: right;\">\n",
              "      <th></th>\n",
              "      <th>Date</th>\n",
              "      <th>Price_pl</th>\n",
              "    </tr>\n",
              "  </thead>\n",
              "  <tbody>\n",
              "    <tr>\n",
              "      <th>0</th>\n",
              "      <td>12/11/2015</td>\n",
              "      <td>1.049</td>\n",
              "    </tr>\n",
              "    <tr>\n",
              "      <th>1</th>\n",
              "      <td>19/11/2015</td>\n",
              "      <td>0.999</td>\n",
              "    </tr>\n",
              "    <tr>\n",
              "      <th>2</th>\n",
              "      <td>7/12/2015</td>\n",
              "      <td>0.999</td>\n",
              "    </tr>\n",
              "    <tr>\n",
              "      <th>3</th>\n",
              "      <td>19/12/2015</td>\n",
              "      <td>1.019</td>\n",
              "    </tr>\n",
              "    <tr>\n",
              "      <th>4</th>\n",
              "      <td>04/01/2016</td>\n",
              "      <td>1.019</td>\n",
              "    </tr>\n",
              "    <tr>\n",
              "      <th>5</th>\n",
              "      <td>10/01/2016</td>\n",
              "      <td>0.959</td>\n",
              "    </tr>\n",
              "    <tr>\n",
              "      <th>6</th>\n",
              "      <td>18/01/2016</td>\n",
              "      <td>0.929</td>\n",
              "    </tr>\n",
              "    <tr>\n",
              "      <th>7</th>\n",
              "      <td>31/01/2016</td>\n",
              "      <td>0.949</td>\n",
              "    </tr>\n",
              "    <tr>\n",
              "      <th>8</th>\n",
              "      <td>5/2/2016</td>\n",
              "      <td>0.909</td>\n",
              "    </tr>\n",
              "    <tr>\n",
              "      <th>9</th>\n",
              "      <td>20/2/2016</td>\n",
              "      <td>0.889</td>\n",
              "    </tr>\n",
              "    <tr>\n",
              "      <th>10</th>\n",
              "      <td>06/03/2016</td>\n",
              "      <td>0.909</td>\n",
              "    </tr>\n",
              "    <tr>\n",
              "      <th>11</th>\n",
              "      <td>22/03/2016</td>\n",
              "      <td>0.949</td>\n",
              "    </tr>\n",
              "    <tr>\n",
              "      <th>12</th>\n",
              "      <td>15/04/2016</td>\n",
              "      <td>NaN</td>\n",
              "    </tr>\n",
              "    <tr>\n",
              "      <th>13</th>\n",
              "      <td>28/04/2016</td>\n",
              "      <td>1.059</td>\n",
              "    </tr>\n",
              "    <tr>\n",
              "      <th>14</th>\n",
              "      <td>1/05/2016</td>\n",
              "      <td>1.059</td>\n",
              "    </tr>\n",
              "    <tr>\n",
              "      <th>15</th>\n",
              "      <td>3/5/2016</td>\n",
              "      <td>1.059</td>\n",
              "    </tr>\n",
              "    <tr>\n",
              "      <th>16</th>\n",
              "      <td>9/5/2016</td>\n",
              "      <td>1.049</td>\n",
              "    </tr>\n",
              "    <tr>\n",
              "      <th>17</th>\n",
              "      <td>16/05/2016</td>\n",
              "      <td>1.079</td>\n",
              "    </tr>\n",
              "    <tr>\n",
              "      <th>18</th>\n",
              "      <td>24/05/2016</td>\n",
              "      <td>1.109</td>\n",
              "    </tr>\n",
              "    <tr>\n",
              "      <th>19</th>\n",
              "      <td>31/05/2016</td>\n",
              "      <td>1.099</td>\n",
              "    </tr>\n",
              "  </tbody>\n",
              "</table>\n",
              "</div>"
            ],
            "text/plain": [
              "          Date  Price_pl\n",
              "0   12/11/2015     1.049\n",
              "1   19/11/2015     0.999\n",
              "2    7/12/2015     0.999\n",
              "3   19/12/2015     1.019\n",
              "4   04/01/2016     1.019\n",
              "5   10/01/2016     0.959\n",
              "6   18/01/2016     0.929\n",
              "7   31/01/2016     0.949\n",
              "8     5/2/2016     0.909\n",
              "9    20/2/2016     0.889\n",
              "10  06/03/2016     0.909\n",
              "11  22/03/2016     0.949\n",
              "12  15/04/2016       NaN\n",
              "13  28/04/2016     1.059\n",
              "14   1/05/2016     1.059\n",
              "15    3/5/2016     1.059\n",
              "16    9/5/2016     1.049\n",
              "17  16/05/2016     1.079\n",
              "18  24/05/2016     1.109\n",
              "19  31/05/2016     1.099"
            ]
          },
          "metadata": {
            "tags": []
          },
          "execution_count": 50
        }
      ]
    },
    {
      "cell_type": "code",
      "metadata": {
        "id": "vbBQjIDoM7d2"
      },
      "source": [
        "#Creating a function to interpolate the 'Nan' values\n",
        "def change_nan(df,col_name):\n",
        "  for i in range(0,len(df[col_name]),1):\n",
        "    if np.isnan(df[col_name][i]) == True:\n",
        "      df[col_name][i] = (df[col_name][i-1] + df[col_name][i+1]) / 2"
      ],
      "execution_count": null,
      "outputs": []
    },
    {
      "cell_type": "code",
      "metadata": {
        "colab": {
          "base_uri": "https://localhost:8080/"
        },
        "id": "A3gxgqLU_hEu",
        "outputId": "f8eb1ef6-dc67-4448-9d96-5e5bf6a729d7"
      },
      "source": [
        "change_nan(df,'Price_pl') #Using the function"
      ],
      "execution_count": null,
      "outputs": [
        {
          "output_type": "stream",
          "text": [
            "/usr/local/lib/python3.6/dist-packages/ipykernel_launcher.py:5: SettingWithCopyWarning: \n",
            "A value is trying to be set on a copy of a slice from a DataFrame\n",
            "\n",
            "See the caveats in the documentation: https://pandas.pydata.org/pandas-docs/stable/user_guide/indexing.html#returning-a-view-versus-a-copy\n",
            "  \"\"\"\n"
          ],
          "name": "stderr"
        }
      ]
    },
    {
      "cell_type": "code",
      "metadata": {
        "colab": {
          "base_uri": "https://localhost:8080/"
        },
        "id": "fGUtRrcO6Itj",
        "outputId": "c5d58b03-2fd8-41d3-8b68-5e59e6b68803"
      },
      "source": [
        "df.isnull().values.any() ##Check for NaN values. (False - NaN values don't exist)"
      ],
      "execution_count": null,
      "outputs": [
        {
          "output_type": "execute_result",
          "data": {
            "text/plain": [
              "False"
            ]
          },
          "metadata": {
            "tags": []
          },
          "execution_count": 53
        }
      ]
    },
    {
      "cell_type": "code",
      "metadata": {
        "colab": {
          "base_uri": "https://localhost:8080/",
          "height": 639
        },
        "id": "XOwtwPuH_reU",
        "outputId": "0854f799-9bd9-48f7-b052-e3f17ec8e531"
      },
      "source": [
        "df.head(20) #13th value is not a NaN value anymore."
      ],
      "execution_count": null,
      "outputs": [
        {
          "output_type": "execute_result",
          "data": {
            "text/html": [
              "<div>\n",
              "<style scoped>\n",
              "    .dataframe tbody tr th:only-of-type {\n",
              "        vertical-align: middle;\n",
              "    }\n",
              "\n",
              "    .dataframe tbody tr th {\n",
              "        vertical-align: top;\n",
              "    }\n",
              "\n",
              "    .dataframe thead th {\n",
              "        text-align: right;\n",
              "    }\n",
              "</style>\n",
              "<table border=\"1\" class=\"dataframe\">\n",
              "  <thead>\n",
              "    <tr style=\"text-align: right;\">\n",
              "      <th></th>\n",
              "      <th>Date</th>\n",
              "      <th>Price_pl</th>\n",
              "    </tr>\n",
              "  </thead>\n",
              "  <tbody>\n",
              "    <tr>\n",
              "      <th>0</th>\n",
              "      <td>12/11/2015</td>\n",
              "      <td>1.049</td>\n",
              "    </tr>\n",
              "    <tr>\n",
              "      <th>1</th>\n",
              "      <td>19/11/2015</td>\n",
              "      <td>0.999</td>\n",
              "    </tr>\n",
              "    <tr>\n",
              "      <th>2</th>\n",
              "      <td>7/12/2015</td>\n",
              "      <td>0.999</td>\n",
              "    </tr>\n",
              "    <tr>\n",
              "      <th>3</th>\n",
              "      <td>19/12/2015</td>\n",
              "      <td>1.019</td>\n",
              "    </tr>\n",
              "    <tr>\n",
              "      <th>4</th>\n",
              "      <td>04/01/2016</td>\n",
              "      <td>1.019</td>\n",
              "    </tr>\n",
              "    <tr>\n",
              "      <th>5</th>\n",
              "      <td>10/01/2016</td>\n",
              "      <td>0.959</td>\n",
              "    </tr>\n",
              "    <tr>\n",
              "      <th>6</th>\n",
              "      <td>18/01/2016</td>\n",
              "      <td>0.929</td>\n",
              "    </tr>\n",
              "    <tr>\n",
              "      <th>7</th>\n",
              "      <td>31/01/2016</td>\n",
              "      <td>0.949</td>\n",
              "    </tr>\n",
              "    <tr>\n",
              "      <th>8</th>\n",
              "      <td>5/2/2016</td>\n",
              "      <td>0.909</td>\n",
              "    </tr>\n",
              "    <tr>\n",
              "      <th>9</th>\n",
              "      <td>20/2/2016</td>\n",
              "      <td>0.889</td>\n",
              "    </tr>\n",
              "    <tr>\n",
              "      <th>10</th>\n",
              "      <td>06/03/2016</td>\n",
              "      <td>0.909</td>\n",
              "    </tr>\n",
              "    <tr>\n",
              "      <th>11</th>\n",
              "      <td>22/03/2016</td>\n",
              "      <td>0.949</td>\n",
              "    </tr>\n",
              "    <tr>\n",
              "      <th>12</th>\n",
              "      <td>15/04/2016</td>\n",
              "      <td>1.004</td>\n",
              "    </tr>\n",
              "    <tr>\n",
              "      <th>13</th>\n",
              "      <td>28/04/2016</td>\n",
              "      <td>1.059</td>\n",
              "    </tr>\n",
              "    <tr>\n",
              "      <th>14</th>\n",
              "      <td>1/05/2016</td>\n",
              "      <td>1.059</td>\n",
              "    </tr>\n",
              "    <tr>\n",
              "      <th>15</th>\n",
              "      <td>3/5/2016</td>\n",
              "      <td>1.059</td>\n",
              "    </tr>\n",
              "    <tr>\n",
              "      <th>16</th>\n",
              "      <td>9/5/2016</td>\n",
              "      <td>1.049</td>\n",
              "    </tr>\n",
              "    <tr>\n",
              "      <th>17</th>\n",
              "      <td>16/05/2016</td>\n",
              "      <td>1.079</td>\n",
              "    </tr>\n",
              "    <tr>\n",
              "      <th>18</th>\n",
              "      <td>24/05/2016</td>\n",
              "      <td>1.109</td>\n",
              "    </tr>\n",
              "    <tr>\n",
              "      <th>19</th>\n",
              "      <td>31/05/2016</td>\n",
              "      <td>1.099</td>\n",
              "    </tr>\n",
              "  </tbody>\n",
              "</table>\n",
              "</div>"
            ],
            "text/plain": [
              "          Date  Price_pl\n",
              "0   12/11/2015     1.049\n",
              "1   19/11/2015     0.999\n",
              "2    7/12/2015     0.999\n",
              "3   19/12/2015     1.019\n",
              "4   04/01/2016     1.019\n",
              "5   10/01/2016     0.959\n",
              "6   18/01/2016     0.929\n",
              "7   31/01/2016     0.949\n",
              "8     5/2/2016     0.909\n",
              "9    20/2/2016     0.889\n",
              "10  06/03/2016     0.909\n",
              "11  22/03/2016     0.949\n",
              "12  15/04/2016     1.004\n",
              "13  28/04/2016     1.059\n",
              "14   1/05/2016     1.059\n",
              "15    3/5/2016     1.059\n",
              "16    9/5/2016     1.049\n",
              "17  16/05/2016     1.079\n",
              "18  24/05/2016     1.109\n",
              "19  31/05/2016     1.099"
            ]
          },
          "metadata": {
            "tags": []
          },
          "execution_count": 54
        }
      ]
    },
    {
      "cell_type": "code",
      "metadata": {
        "colab": {
          "base_uri": "https://localhost:8080/"
        },
        "id": "YgfOg3K-6JV3",
        "outputId": "322f2d7c-4a1b-4f39-e3b1-77067eeafffc"
      },
      "source": [
        "#Maximum gas price\n",
        "max_val = df['Price_pl'].max()\n",
        "print('Max value of gas price',max_val)\n",
        "\n",
        "idx_max = df[df['Price_pl']==max_val].index.values\n",
        "print('Index value of max gas price',idx_max)\n",
        "\n",
        "date_val1 = df['Date'][idx_max]\n",
        "print('Date for max gas price',date_val1)"
      ],
      "execution_count": null,
      "outputs": [
        {
          "output_type": "stream",
          "text": [
            "Max value of gas price 1.336\n",
            "Index value of max gas price [73]\n",
            "Date for max gas price 73    23/05/2018\n",
            "Name: Date, dtype: object\n"
          ],
          "name": "stdout"
        }
      ]
    },
    {
      "cell_type": "code",
      "metadata": {
        "colab": {
          "base_uri": "https://localhost:8080/"
        },
        "id": "gHJ5UAEYA6tz",
        "outputId": "c3633296-74f9-4d88-8bbf-7a756e17e315"
      },
      "source": [
        "#Minimum gas price\n",
        "min_val = df['Price_pl'].min()\n",
        "print('Min value of gas price',min_val)\n",
        "\n",
        "idx_min = df[df['Price_pl']==min_val].index.values\n",
        "print('Index value of min gas price',idx_min)\n",
        "\n",
        "date_val2 = df['Date'][idx_min]\n",
        "print('Date for max gas price',date_val2)"
      ],
      "execution_count": null,
      "outputs": [
        {
          "output_type": "stream",
          "text": [
            "Min value of gas price 0.889\n",
            "Index value of min gas price [9]\n",
            "Date for max gas price 9    20/2/2016\n",
            "Name: Date, dtype: object\n"
          ],
          "name": "stdout"
        }
      ]
    },
    {
      "cell_type": "code",
      "metadata": {
        "colab": {
          "base_uri": "https://localhost:8080/",
          "height": 402
        },
        "id": "nq7c4sucBw_P",
        "outputId": "277b18ff-0efe-4d51-c854-2c8af15a926a"
      },
      "source": [
        "df"
      ],
      "execution_count": null,
      "outputs": [
        {
          "output_type": "execute_result",
          "data": {
            "text/html": [
              "<div>\n",
              "<style scoped>\n",
              "    .dataframe tbody tr th:only-of-type {\n",
              "        vertical-align: middle;\n",
              "    }\n",
              "\n",
              "    .dataframe tbody tr th {\n",
              "        vertical-align: top;\n",
              "    }\n",
              "\n",
              "    .dataframe thead th {\n",
              "        text-align: right;\n",
              "    }\n",
              "</style>\n",
              "<table border=\"1\" class=\"dataframe\">\n",
              "  <thead>\n",
              "    <tr style=\"text-align: right;\">\n",
              "      <th></th>\n",
              "      <th>Date</th>\n",
              "      <th>Price_pl</th>\n",
              "    </tr>\n",
              "  </thead>\n",
              "  <tbody>\n",
              "    <tr>\n",
              "      <th>0</th>\n",
              "      <td>12/11/2015</td>\n",
              "      <td>1.049</td>\n",
              "    </tr>\n",
              "    <tr>\n",
              "      <th>1</th>\n",
              "      <td>19/11/2015</td>\n",
              "      <td>0.999</td>\n",
              "    </tr>\n",
              "    <tr>\n",
              "      <th>2</th>\n",
              "      <td>7/12/2015</td>\n",
              "      <td>0.999</td>\n",
              "    </tr>\n",
              "    <tr>\n",
              "      <th>3</th>\n",
              "      <td>19/12/2015</td>\n",
              "      <td>1.019</td>\n",
              "    </tr>\n",
              "    <tr>\n",
              "      <th>4</th>\n",
              "      <td>04/01/2016</td>\n",
              "      <td>1.019</td>\n",
              "    </tr>\n",
              "    <tr>\n",
              "      <th>...</th>\n",
              "      <td>...</td>\n",
              "      <td>...</td>\n",
              "    </tr>\n",
              "    <tr>\n",
              "      <th>77</th>\n",
              "      <td>17/10/2018</td>\n",
              "      <td>1.209</td>\n",
              "    </tr>\n",
              "    <tr>\n",
              "      <th>78</th>\n",
              "      <td>01/11/2018</td>\n",
              "      <td>1.196</td>\n",
              "    </tr>\n",
              "    <tr>\n",
              "      <th>79</th>\n",
              "      <td>12/11/2018</td>\n",
              "      <td>1.126</td>\n",
              "    </tr>\n",
              "    <tr>\n",
              "      <th>80</th>\n",
              "      <td>27/11/2018</td>\n",
              "      <td>1.059</td>\n",
              "    </tr>\n",
              "    <tr>\n",
              "      <th>81</th>\n",
              "      <td>06/12/2018</td>\n",
              "      <td>1.016</td>\n",
              "    </tr>\n",
              "  </tbody>\n",
              "</table>\n",
              "<p>82 rows × 2 columns</p>\n",
              "</div>"
            ],
            "text/plain": [
              "          Date  Price_pl\n",
              "0   12/11/2015     1.049\n",
              "1   19/11/2015     0.999\n",
              "2    7/12/2015     0.999\n",
              "3   19/12/2015     1.019\n",
              "4   04/01/2016     1.019\n",
              "..         ...       ...\n",
              "77  17/10/2018     1.209\n",
              "78  01/11/2018     1.196\n",
              "79  12/11/2018     1.126\n",
              "80  27/11/2018     1.059\n",
              "81  06/12/2018     1.016\n",
              "\n",
              "[82 rows x 2 columns]"
            ]
          },
          "metadata": {
            "tags": []
          },
          "execution_count": 57
        }
      ]
    },
    {
      "cell_type": "code",
      "metadata": {
        "colab": {
          "base_uri": "https://localhost:8080/"
        },
        "id": "ljiI_vaVBxlL",
        "outputId": "f439543e-8b7b-4f4a-b80c-7f58676af51c"
      },
      "source": [
        "#3\n",
        "df.mean()"
      ],
      "execution_count": null,
      "outputs": [
        {
          "output_type": "execute_result",
          "data": {
            "text/plain": [
              "Price_pl    1.09539\n",
              "dtype: float64"
            ]
          },
          "metadata": {
            "tags": []
          },
          "execution_count": 58
        }
      ]
    },
    {
      "cell_type": "code",
      "metadata": {
        "colab": {
          "base_uri": "https://localhost:8080/"
        },
        "id": "UNUwW-S2CFuT",
        "outputId": "9cee3806-bcc8-4b5f-9ccc-fdc6e2145a7a"
      },
      "source": [
        "df.median()"
      ],
      "execution_count": null,
      "outputs": [
        {
          "output_type": "execute_result",
          "data": {
            "text/plain": [
              "Price_pl    1.079\n",
              "dtype: float64"
            ]
          },
          "metadata": {
            "tags": []
          },
          "execution_count": 59
        }
      ]
    },
    {
      "cell_type": "code",
      "metadata": {
        "colab": {
          "base_uri": "https://localhost:8080/"
        },
        "id": "3rUMl4MoCJdp",
        "outputId": "a58915ba-c1fc-4263-fbe6-a44206b59a70"
      },
      "source": [
        "df.quantile() #Q2"
      ],
      "execution_count": null,
      "outputs": [
        {
          "output_type": "execute_result",
          "data": {
            "text/plain": [
              "Price_pl    1.079\n",
              "Name: 0.5, dtype: float64"
            ]
          },
          "metadata": {
            "tags": []
          },
          "execution_count": 60
        }
      ]
    },
    {
      "cell_type": "code",
      "metadata": {
        "colab": {
          "base_uri": "https://localhost:8080/"
        },
        "id": "XsTGYjltCNMa",
        "outputId": "686198ff-82ec-44de-c76d-340d55e5e289"
      },
      "source": [
        "df.skew()"
      ],
      "execution_count": null,
      "outputs": [
        {
          "output_type": "execute_result",
          "data": {
            "text/plain": [
              "Price_pl    0.467526\n",
              "dtype: float64"
            ]
          },
          "metadata": {
            "tags": []
          },
          "execution_count": 61
        }
      ]
    },
    {
      "cell_type": "code",
      "metadata": {
        "colab": {
          "base_uri": "https://localhost:8080/"
        },
        "id": "jFw9NcHXCw6p",
        "outputId": "1fbb6000-ad1f-4318-b3ff-21f4a984f199"
      },
      "source": [
        "df.kurtosis()"
      ],
      "execution_count": null,
      "outputs": [
        {
          "output_type": "execute_result",
          "data": {
            "text/plain": [
              "Price_pl   -0.257963\n",
              "dtype: float64"
            ]
          },
          "metadata": {
            "tags": []
          },
          "execution_count": 62
        }
      ]
    },
    {
      "cell_type": "code",
      "metadata": {
        "colab": {
          "base_uri": "https://localhost:8080/",
          "height": 402
        },
        "id": "FRm-eSv7CziZ",
        "outputId": "2ccfdb55-0c4c-490b-a41e-9cbc60ee457d"
      },
      "source": [
        "#Split the month and year as separate columns\n",
        "df['Year'] = pd.DatetimeIndex(df['Date']).year\n",
        "df['Month'] = pd.DatetimeIndex(df['Date']).month\n",
        "df"
      ],
      "execution_count": null,
      "outputs": [
        {
          "output_type": "execute_result",
          "data": {
            "text/html": [
              "<div>\n",
              "<style scoped>\n",
              "    .dataframe tbody tr th:only-of-type {\n",
              "        vertical-align: middle;\n",
              "    }\n",
              "\n",
              "    .dataframe tbody tr th {\n",
              "        vertical-align: top;\n",
              "    }\n",
              "\n",
              "    .dataframe thead th {\n",
              "        text-align: right;\n",
              "    }\n",
              "</style>\n",
              "<table border=\"1\" class=\"dataframe\">\n",
              "  <thead>\n",
              "    <tr style=\"text-align: right;\">\n",
              "      <th></th>\n",
              "      <th>Date</th>\n",
              "      <th>Price_pl</th>\n",
              "      <th>Year</th>\n",
              "      <th>Month</th>\n",
              "    </tr>\n",
              "  </thead>\n",
              "  <tbody>\n",
              "    <tr>\n",
              "      <th>0</th>\n",
              "      <td>12/11/2015</td>\n",
              "      <td>1.049</td>\n",
              "      <td>2015</td>\n",
              "      <td>12</td>\n",
              "    </tr>\n",
              "    <tr>\n",
              "      <th>1</th>\n",
              "      <td>19/11/2015</td>\n",
              "      <td>0.999</td>\n",
              "      <td>2015</td>\n",
              "      <td>11</td>\n",
              "    </tr>\n",
              "    <tr>\n",
              "      <th>2</th>\n",
              "      <td>7/12/2015</td>\n",
              "      <td>0.999</td>\n",
              "      <td>2015</td>\n",
              "      <td>7</td>\n",
              "    </tr>\n",
              "    <tr>\n",
              "      <th>3</th>\n",
              "      <td>19/12/2015</td>\n",
              "      <td>1.019</td>\n",
              "      <td>2015</td>\n",
              "      <td>12</td>\n",
              "    </tr>\n",
              "    <tr>\n",
              "      <th>4</th>\n",
              "      <td>04/01/2016</td>\n",
              "      <td>1.019</td>\n",
              "      <td>2016</td>\n",
              "      <td>4</td>\n",
              "    </tr>\n",
              "    <tr>\n",
              "      <th>...</th>\n",
              "      <td>...</td>\n",
              "      <td>...</td>\n",
              "      <td>...</td>\n",
              "      <td>...</td>\n",
              "    </tr>\n",
              "    <tr>\n",
              "      <th>77</th>\n",
              "      <td>17/10/2018</td>\n",
              "      <td>1.209</td>\n",
              "      <td>2018</td>\n",
              "      <td>10</td>\n",
              "    </tr>\n",
              "    <tr>\n",
              "      <th>78</th>\n",
              "      <td>01/11/2018</td>\n",
              "      <td>1.196</td>\n",
              "      <td>2018</td>\n",
              "      <td>1</td>\n",
              "    </tr>\n",
              "    <tr>\n",
              "      <th>79</th>\n",
              "      <td>12/11/2018</td>\n",
              "      <td>1.126</td>\n",
              "      <td>2018</td>\n",
              "      <td>12</td>\n",
              "    </tr>\n",
              "    <tr>\n",
              "      <th>80</th>\n",
              "      <td>27/11/2018</td>\n",
              "      <td>1.059</td>\n",
              "      <td>2018</td>\n",
              "      <td>11</td>\n",
              "    </tr>\n",
              "    <tr>\n",
              "      <th>81</th>\n",
              "      <td>06/12/2018</td>\n",
              "      <td>1.016</td>\n",
              "      <td>2018</td>\n",
              "      <td>6</td>\n",
              "    </tr>\n",
              "  </tbody>\n",
              "</table>\n",
              "<p>82 rows × 4 columns</p>\n",
              "</div>"
            ],
            "text/plain": [
              "          Date  Price_pl  Year  Month\n",
              "0   12/11/2015     1.049  2015     12\n",
              "1   19/11/2015     0.999  2015     11\n",
              "2    7/12/2015     0.999  2015      7\n",
              "3   19/12/2015     1.019  2015     12\n",
              "4   04/01/2016     1.019  2016      4\n",
              "..         ...       ...   ...    ...\n",
              "77  17/10/2018     1.209  2018     10\n",
              "78  01/11/2018     1.196  2018      1\n",
              "79  12/11/2018     1.126  2018     12\n",
              "80  27/11/2018     1.059  2018     11\n",
              "81  06/12/2018     1.016  2018      6\n",
              "\n",
              "[82 rows x 4 columns]"
            ]
          },
          "metadata": {
            "tags": []
          },
          "execution_count": 63
        }
      ]
    },
    {
      "cell_type": "code",
      "metadata": {
        "colab": {
          "base_uri": "https://localhost:8080/",
          "height": 462
        },
        "id": "BVlg8XAU5Nhr",
        "outputId": "cdaa2191-0997-4bf3-f1c7-0b69715a24d9"
      },
      "source": [
        "#Pivotting the table\n",
        "table = df.pivot_table(index='Month', columns='Year')\n",
        "table"
      ],
      "execution_count": null,
      "outputs": [
        {
          "output_type": "execute_result",
          "data": {
            "text/html": [
              "<div>\n",
              "<style scoped>\n",
              "    .dataframe tbody tr th:only-of-type {\n",
              "        vertical-align: middle;\n",
              "    }\n",
              "\n",
              "    .dataframe tbody tr th {\n",
              "        vertical-align: top;\n",
              "    }\n",
              "\n",
              "    .dataframe thead tr th {\n",
              "        text-align: left;\n",
              "    }\n",
              "\n",
              "    .dataframe thead tr:last-of-type th {\n",
              "        text-align: right;\n",
              "    }\n",
              "</style>\n",
              "<table border=\"1\" class=\"dataframe\">\n",
              "  <thead>\n",
              "    <tr>\n",
              "      <th></th>\n",
              "      <th colspan=\"4\" halign=\"left\">Price_pl</th>\n",
              "    </tr>\n",
              "    <tr>\n",
              "      <th>Year</th>\n",
              "      <th>2015</th>\n",
              "      <th>2016</th>\n",
              "      <th>2017</th>\n",
              "      <th>2018</th>\n",
              "    </tr>\n",
              "    <tr>\n",
              "      <th>Month</th>\n",
              "      <th></th>\n",
              "      <th></th>\n",
              "      <th></th>\n",
              "      <th></th>\n",
              "    </tr>\n",
              "  </thead>\n",
              "  <tbody>\n",
              "    <tr>\n",
              "      <th>1</th>\n",
              "      <td>NaN</td>\n",
              "      <td>0.979000</td>\n",
              "      <td>1.109000</td>\n",
              "      <td>1.196000</td>\n",
              "    </tr>\n",
              "    <tr>\n",
              "      <th>2</th>\n",
              "      <td>NaN</td>\n",
              "      <td>0.974500</td>\n",
              "      <td>1.085667</td>\n",
              "      <td>1.242750</td>\n",
              "    </tr>\n",
              "    <tr>\n",
              "      <th>3</th>\n",
              "      <td>NaN</td>\n",
              "      <td>1.004000</td>\n",
              "      <td>1.075667</td>\n",
              "      <td>1.258333</td>\n",
              "    </tr>\n",
              "    <tr>\n",
              "      <th>4</th>\n",
              "      <td>NaN</td>\n",
              "      <td>1.027333</td>\n",
              "      <td>1.184000</td>\n",
              "      <td>1.259250</td>\n",
              "    </tr>\n",
              "    <tr>\n",
              "      <th>5</th>\n",
              "      <td>NaN</td>\n",
              "      <td>1.049000</td>\n",
              "      <td>1.089000</td>\n",
              "      <td>1.336000</td>\n",
              "    </tr>\n",
              "    <tr>\n",
              "      <th>6</th>\n",
              "      <td>NaN</td>\n",
              "      <td>1.013250</td>\n",
              "      <td>1.085500</td>\n",
              "      <td>1.152500</td>\n",
              "    </tr>\n",
              "    <tr>\n",
              "      <th>7</th>\n",
              "      <td>0.999</td>\n",
              "      <td>0.999000</td>\n",
              "      <td>1.059000</td>\n",
              "      <td>1.299000</td>\n",
              "    </tr>\n",
              "    <tr>\n",
              "      <th>8</th>\n",
              "      <td>NaN</td>\n",
              "      <td>0.996667</td>\n",
              "      <td>1.104000</td>\n",
              "      <td>1.176000</td>\n",
              "    </tr>\n",
              "    <tr>\n",
              "      <th>9</th>\n",
              "      <td>NaN</td>\n",
              "      <td>1.024000</td>\n",
              "      <td>1.121333</td>\n",
              "      <td>1.196000</td>\n",
              "    </tr>\n",
              "    <tr>\n",
              "      <th>10</th>\n",
              "      <td>NaN</td>\n",
              "      <td>1.019000</td>\n",
              "      <td>1.126333</td>\n",
              "      <td>1.209000</td>\n",
              "    </tr>\n",
              "    <tr>\n",
              "      <th>11</th>\n",
              "      <td>0.999</td>\n",
              "      <td>0.949000</td>\n",
              "      <td>1.183000</td>\n",
              "      <td>1.059000</td>\n",
              "    </tr>\n",
              "    <tr>\n",
              "      <th>12</th>\n",
              "      <td>1.034</td>\n",
              "      <td>1.074000</td>\n",
              "      <td>1.203000</td>\n",
              "      <td>1.226000</td>\n",
              "    </tr>\n",
              "  </tbody>\n",
              "</table>\n",
              "</div>"
            ],
            "text/plain": [
              "      Price_pl                              \n",
              "Year      2015      2016      2017      2018\n",
              "Month                                       \n",
              "1          NaN  0.979000  1.109000  1.196000\n",
              "2          NaN  0.974500  1.085667  1.242750\n",
              "3          NaN  1.004000  1.075667  1.258333\n",
              "4          NaN  1.027333  1.184000  1.259250\n",
              "5          NaN  1.049000  1.089000  1.336000\n",
              "6          NaN  1.013250  1.085500  1.152500\n",
              "7        0.999  0.999000  1.059000  1.299000\n",
              "8          NaN  0.996667  1.104000  1.176000\n",
              "9          NaN  1.024000  1.121333  1.196000\n",
              "10         NaN  1.019000  1.126333  1.209000\n",
              "11       0.999  0.949000  1.183000  1.059000\n",
              "12       1.034  1.074000  1.203000  1.226000"
            ]
          },
          "metadata": {
            "tags": []
          },
          "execution_count": 64
        }
      ]
    },
    {
      "cell_type": "code",
      "metadata": {
        "id": "ntWCnUBK74LM"
      },
      "source": [
        "import matplotlib.pyplot as plt"
      ],
      "execution_count": null,
      "outputs": []
    },
    {
      "cell_type": "code",
      "metadata": {
        "colab": {
          "base_uri": "https://localhost:8080/",
          "height": 535
        },
        "id": "rKsN_Q-qN7Yw",
        "outputId": "5e5c3e63-c506-4e38-9b96-cc0279e0c278"
      },
      "source": [
        "#Plot\n",
        "plt.figure(figsize=(15,8))\n",
        "plt.title('Monthly average of GAS PRICES',fontsize=30)\n",
        "plt.plot(table.index,table.iloc[:,0], label = \"2015\")\n",
        "plt.plot(table.index,table.iloc[:,1], label = \"2016\")\n",
        "plt.plot(table.index,table.iloc[:,2], label = \"2017\")\n",
        "plt.plot(table.index,table.iloc[:,3], label = \"2018\")\n",
        "plt.xlabel('Month',fontsize=20)\n",
        "plt.ylabel('Gas Prices',fontsize=20)\n",
        "plt.legend()\n",
        "plt.savefig('Fig_3_4_Desai_Ashutosh.png')"
      ],
      "execution_count": null,
      "outputs": [
        {
          "output_type": "display_data",
          "data": {
            "image/png": "[encoded data removed]",
            "text/plain": [
              "<Figure size 1080x576 with 1 Axes>"
            ]
          },
          "metadata": {
            "tags": [],
            "needs_background": "light"
          }
        }
      ]
    },
    {
      "cell_type": "code",
      "metadata": {
        "colab": {
          "base_uri": "https://localhost:8080/"
        },
        "id": "RVpEgOgEQHxS",
        "outputId": "81bc90c6-d7f7-4fa4-9660-b5c800eadf1e"
      },
      "source": [
        "season = []\n",
        "for i in table.index:\n",
        "  if i>2 and i<6:\n",
        "    season.append('Spring')\n",
        "  elif i>5 and i<9:\n",
        "    season.append('Summer')\n",
        "  elif i>8 and i<12:\n",
        "    season.append('Fall')\n",
        "  else:\n",
        "    season.append('Winter')\n",
        "\n",
        "print(season)"
      ],
      "execution_count": null,
      "outputs": [
        {
          "output_type": "stream",
          "text": [
            "['Winter', 'Winter', 'Spring', 'Spring', 'Spring', 'Summer', 'Summer', 'Summer', 'Fall', 'Fall', 'Fall', 'Winter']\n"
          ],
          "name": "stdout"
        }
      ]
    },
    {
      "cell_type": "code",
      "metadata": {
        "colab": {
          "base_uri": "https://localhost:8080/",
          "height": 462
        },
        "id": "fuQPUX9hQIqv",
        "outputId": "38f3500a-e0a4-42f8-8f49-18ea65b6db7e"
      },
      "source": [
        "table['Seasons'] = season\n",
        "table"
      ],
      "execution_count": null,
      "outputs": [
        {
          "output_type": "execute_result",
          "data": {
            "text/html": [
              "<div>\n",
              "<style scoped>\n",
              "    .dataframe tbody tr th:only-of-type {\n",
              "        vertical-align: middle;\n",
              "    }\n",
              "\n",
              "    .dataframe tbody tr th {\n",
              "        vertical-align: top;\n",
              "    }\n",
              "\n",
              "    .dataframe thead tr th {\n",
              "        text-align: left;\n",
              "    }\n",
              "\n",
              "    .dataframe thead tr:last-of-type th {\n",
              "        text-align: right;\n",
              "    }\n",
              "</style>\n",
              "<table border=\"1\" class=\"dataframe\">\n",
              "  <thead>\n",
              "    <tr>\n",
              "      <th></th>\n",
              "      <th colspan=\"4\" halign=\"left\">Price_pl</th>\n",
              "      <th>Seasons</th>\n",
              "    </tr>\n",
              "    <tr>\n",
              "      <th>Year</th>\n",
              "      <th>2015</th>\n",
              "      <th>2016</th>\n",
              "      <th>2017</th>\n",
              "      <th>2018</th>\n",
              "      <th></th>\n",
              "    </tr>\n",
              "    <tr>\n",
              "      <th>Month</th>\n",
              "      <th></th>\n",
              "      <th></th>\n",
              "      <th></th>\n",
              "      <th></th>\n",
              "      <th></th>\n",
              "    </tr>\n",
              "  </thead>\n",
              "  <tbody>\n",
              "    <tr>\n",
              "      <th>1</th>\n",
              "      <td>NaN</td>\n",
              "      <td>0.979000</td>\n",
              "      <td>1.109000</td>\n",
              "      <td>1.196000</td>\n",
              "      <td>Winter</td>\n",
              "    </tr>\n",
              "    <tr>\n",
              "      <th>2</th>\n",
              "      <td>NaN</td>\n",
              "      <td>0.974500</td>\n",
              "      <td>1.085667</td>\n",
              "      <td>1.242750</td>\n",
              "      <td>Winter</td>\n",
              "    </tr>\n",
              "    <tr>\n",
              "      <th>3</th>\n",
              "      <td>NaN</td>\n",
              "      <td>1.004000</td>\n",
              "      <td>1.075667</td>\n",
              "      <td>1.258333</td>\n",
              "      <td>Spring</td>\n",
              "    </tr>\n",
              "    <tr>\n",
              "      <th>4</th>\n",
              "      <td>NaN</td>\n",
              "      <td>1.027333</td>\n",
              "      <td>1.184000</td>\n",
              "      <td>1.259250</td>\n",
              "      <td>Spring</td>\n",
              "    </tr>\n",
              "    <tr>\n",
              "      <th>5</th>\n",
              "      <td>NaN</td>\n",
              "      <td>1.049000</td>\n",
              "      <td>1.089000</td>\n",
              "      <td>1.336000</td>\n",
              "      <td>Spring</td>\n",
              "    </tr>\n",
              "    <tr>\n",
              "      <th>6</th>\n",
              "      <td>NaN</td>\n",
              "      <td>1.013250</td>\n",
              "      <td>1.085500</td>\n",
              "      <td>1.152500</td>\n",
              "      <td>Summer</td>\n",
              "    </tr>\n",
              "    <tr>\n",
              "      <th>7</th>\n",
              "      <td>0.999</td>\n",
              "      <td>0.999000</td>\n",
              "      <td>1.059000</td>\n",
              "      <td>1.299000</td>\n",
              "      <td>Summer</td>\n",
              "    </tr>\n",
              "    <tr>\n",
              "      <th>8</th>\n",
              "      <td>NaN</td>\n",
              "      <td>0.996667</td>\n",
              "      <td>1.104000</td>\n",
              "      <td>1.176000</td>\n",
              "      <td>Summer</td>\n",
              "    </tr>\n",
              "    <tr>\n",
              "      <th>9</th>\n",
              "      <td>NaN</td>\n",
              "      <td>1.024000</td>\n",
              "      <td>1.121333</td>\n",
              "      <td>1.196000</td>\n",
              "      <td>Fall</td>\n",
              "    </tr>\n",
              "    <tr>\n",
              "      <th>10</th>\n",
              "      <td>NaN</td>\n",
              "      <td>1.019000</td>\n",
              "      <td>1.126333</td>\n",
              "      <td>1.209000</td>\n",
              "      <td>Fall</td>\n",
              "    </tr>\n",
              "    <tr>\n",
              "      <th>11</th>\n",
              "      <td>0.999</td>\n",
              "      <td>0.949000</td>\n",
              "      <td>1.183000</td>\n",
              "      <td>1.059000</td>\n",
              "      <td>Fall</td>\n",
              "    </tr>\n",
              "    <tr>\n",
              "      <th>12</th>\n",
              "      <td>1.034</td>\n",
              "      <td>1.074000</td>\n",
              "      <td>1.203000</td>\n",
              "      <td>1.226000</td>\n",
              "      <td>Winter</td>\n",
              "    </tr>\n",
              "  </tbody>\n",
              "</table>\n",
              "</div>"
            ],
            "text/plain": [
              "      Price_pl                               Seasons\n",
              "Year      2015      2016      2017      2018        \n",
              "Month                                               \n",
              "1          NaN  0.979000  1.109000  1.196000  Winter\n",
              "2          NaN  0.974500  1.085667  1.242750  Winter\n",
              "3          NaN  1.004000  1.075667  1.258333  Spring\n",
              "4          NaN  1.027333  1.184000  1.259250  Spring\n",
              "5          NaN  1.049000  1.089000  1.336000  Spring\n",
              "6          NaN  1.013250  1.085500  1.152500  Summer\n",
              "7        0.999  0.999000  1.059000  1.299000  Summer\n",
              "8          NaN  0.996667  1.104000  1.176000  Summer\n",
              "9          NaN  1.024000  1.121333  1.196000    Fall\n",
              "10         NaN  1.019000  1.126333  1.209000    Fall\n",
              "11       0.999  0.949000  1.183000  1.059000    Fall\n",
              "12       1.034  1.074000  1.203000  1.226000  Winter"
            ]
          },
          "metadata": {
            "tags": []
          },
          "execution_count": 68
        }
      ]
    },
    {
      "cell_type": "code",
      "metadata": {
        "colab": {
          "base_uri": "https://localhost:8080/",
          "height": 225
        },
        "id": "OwjZkHOvSP8_",
        "outputId": "8b211708-4ce9-4bc2-8eb3-b328fe1f7b1d"
      },
      "source": [
        "new_table = table.groupby(['Seasons']).mean()\n",
        "new_table"
      ],
      "execution_count": null,
      "outputs": [
        {
          "output_type": "execute_result",
          "data": {
            "text/html": [
              "<div>\n",
              "<style scoped>\n",
              "    .dataframe tbody tr th:only-of-type {\n",
              "        vertical-align: middle;\n",
              "    }\n",
              "\n",
              "    .dataframe tbody tr th {\n",
              "        vertical-align: top;\n",
              "    }\n",
              "\n",
              "    .dataframe thead tr th {\n",
              "        text-align: left;\n",
              "    }\n",
              "\n",
              "    .dataframe thead tr:last-of-type th {\n",
              "        text-align: right;\n",
              "    }\n",
              "</style>\n",
              "<table border=\"1\" class=\"dataframe\">\n",
              "  <thead>\n",
              "    <tr>\n",
              "      <th></th>\n",
              "      <th colspan=\"4\" halign=\"left\">Price_pl</th>\n",
              "    </tr>\n",
              "    <tr>\n",
              "      <th>Year</th>\n",
              "      <th>2015</th>\n",
              "      <th>2016</th>\n",
              "      <th>2017</th>\n",
              "      <th>2018</th>\n",
              "    </tr>\n",
              "    <tr>\n",
              "      <th>Seasons</th>\n",
              "      <th></th>\n",
              "      <th></th>\n",
              "      <th></th>\n",
              "      <th></th>\n",
              "    </tr>\n",
              "  </thead>\n",
              "  <tbody>\n",
              "    <tr>\n",
              "      <th>Fall</th>\n",
              "      <td>0.999</td>\n",
              "      <td>0.997333</td>\n",
              "      <td>1.143556</td>\n",
              "      <td>1.154667</td>\n",
              "    </tr>\n",
              "    <tr>\n",
              "      <th>Spring</th>\n",
              "      <td>NaN</td>\n",
              "      <td>1.026778</td>\n",
              "      <td>1.116222</td>\n",
              "      <td>1.284528</td>\n",
              "    </tr>\n",
              "    <tr>\n",
              "      <th>Summer</th>\n",
              "      <td>0.999</td>\n",
              "      <td>1.002972</td>\n",
              "      <td>1.082833</td>\n",
              "      <td>1.209167</td>\n",
              "    </tr>\n",
              "    <tr>\n",
              "      <th>Winter</th>\n",
              "      <td>1.034</td>\n",
              "      <td>1.009167</td>\n",
              "      <td>1.132556</td>\n",
              "      <td>1.221583</td>\n",
              "    </tr>\n",
              "  </tbody>\n",
              "</table>\n",
              "</div>"
            ],
            "text/plain": [
              "        Price_pl                              \n",
              "Year        2015      2016      2017      2018\n",
              "Seasons                                       \n",
              "Fall       0.999  0.997333  1.143556  1.154667\n",
              "Spring       NaN  1.026778  1.116222  1.284528\n",
              "Summer     0.999  1.002972  1.082833  1.209167\n",
              "Winter     1.034  1.009167  1.132556  1.221583"
            ]
          },
          "metadata": {
            "tags": []
          },
          "execution_count": 69
        }
      ]
    },
    {
      "cell_type": "code",
      "metadata": {
        "colab": {
          "base_uri": "https://localhost:8080/",
          "height": 535
        },
        "id": "pJcjagIhS6Nd",
        "outputId": "c201c12e-0b00-4b7e-af65-c01e98346fef"
      },
      "source": [
        "plt.figure(figsize=(15,8))\n",
        "plt.title('Seasonal average of GAS PRICES',fontsize=30)\n",
        "plt.plot(new_table.index,new_table.iloc[:,0], label = \"2015\")\n",
        "plt.plot(new_table.index,new_table.iloc[:,1], label = \"2016\")\n",
        "plt.plot(new_table.index,new_table.iloc[:,2], label = \"2017\")\n",
        "plt.plot(new_table.index,new_table.iloc[:,3], label = \"2018\")\n",
        "plt.xlabel('Season',fontsize=20)\n",
        "plt.ylabel('Gas Prices',fontsize=20)\n",
        "plt.legend()\n",
        "plt.savefig('Fig_3_5_Desai_Ashutosh.png')"
      ],
      "execution_count": null,
      "outputs": [
        {
          "output_type": "display_data",
          "data": {
            "image/png": "[encoded data removed]",
            "text/plain": [
              "<Figure size 1080x576 with 1 Axes>"
            ]
          },
          "metadata": {
            "tags": [],
            "needs_background": "light"
          }
        }
      ]
    },
    {
      "cell_type": "markdown",
      "metadata": {
        "id": "8gajhmCQTS49"
      },
      "source": [
        "####**4** Pivot, aggregate and plot timeseries"
      ]
    },
    {
      "cell_type": "code",
      "metadata": {
        "id": "qoKPG4E9TZOY",
        "colab": {
          "base_uri": "https://localhost:8080/",
          "height": 1000
        },
        "outputId": "d671223e-7c15-4301-c00f-ecd0559c3e62"
      },
      "source": [
        "import pandas as pd\n",
        "sales = pd.read_excel('TREB_Data.xlsx') #Import file\n",
        "sales"
      ],
      "execution_count": null,
      "outputs": [
        {
          "output_type": "execute_result",
          "data": {
            "text/html": [
              "<div>\n",
              "<style scoped>\n",
              "    .dataframe tbody tr th:only-of-type {\n",
              "        vertical-align: middle;\n",
              "    }\n",
              "\n",
              "    .dataframe tbody tr th {\n",
              "        vertical-align: top;\n",
              "    }\n",
              "\n",
              "    .dataframe thead th {\n",
              "        text-align: right;\n",
              "    }\n",
              "</style>\n",
              "<table border=\"1\" class=\"dataframe\">\n",
              "  <thead>\n",
              "    <tr style=\"text-align: right;\">\n",
              "      <th></th>\n",
              "      <th>MonthYear</th>\n",
              "      <th>Sales</th>\n",
              "      <th>AveragePrice</th>\n",
              "    </tr>\n",
              "  </thead>\n",
              "  <tbody>\n",
              "    <tr>\n",
              "      <th>0</th>\n",
              "      <td>January-2017</td>\n",
              "      <td>5155</td>\n",
              "      <td>768351</td>\n",
              "    </tr>\n",
              "    <tr>\n",
              "      <th>1</th>\n",
              "      <td>February-2017</td>\n",
              "      <td>7955</td>\n",
              "      <td>876363</td>\n",
              "    </tr>\n",
              "    <tr>\n",
              "      <th>2</th>\n",
              "      <td>March-2017</td>\n",
              "      <td>11959</td>\n",
              "      <td>915353</td>\n",
              "    </tr>\n",
              "    <tr>\n",
              "      <th>3</th>\n",
              "      <td>April-2017</td>\n",
              "      <td>11470</td>\n",
              "      <td>918138</td>\n",
              "    </tr>\n",
              "    <tr>\n",
              "      <th>4</th>\n",
              "      <td>May-2017</td>\n",
              "      <td>10068</td>\n",
              "      <td>862109</td>\n",
              "    </tr>\n",
              "    <tr>\n",
              "      <th>5</th>\n",
              "      <td>June-2017</td>\n",
              "      <td>7896</td>\n",
              "      <td>791949</td>\n",
              "    </tr>\n",
              "    <tr>\n",
              "      <th>6</th>\n",
              "      <td>July-2017</td>\n",
              "      <td>5871</td>\n",
              "      <td>745909</td>\n",
              "    </tr>\n",
              "    <tr>\n",
              "      <th>7</th>\n",
              "      <td>August-2017</td>\n",
              "      <td>6310</td>\n",
              "      <td>731606</td>\n",
              "    </tr>\n",
              "    <tr>\n",
              "      <th>8</th>\n",
              "      <td>September-2017</td>\n",
              "      <td>6340</td>\n",
              "      <td>774946</td>\n",
              "    </tr>\n",
              "    <tr>\n",
              "      <th>9</th>\n",
              "      <td>October-2017</td>\n",
              "      <td>7087</td>\n",
              "      <td>780643</td>\n",
              "    </tr>\n",
              "    <tr>\n",
              "      <th>10</th>\n",
              "      <td>November-2017</td>\n",
              "      <td>7353</td>\n",
              "      <td>761985</td>\n",
              "    </tr>\n",
              "    <tr>\n",
              "      <th>11</th>\n",
              "      <td>December-2017</td>\n",
              "      <td>4930</td>\n",
              "      <td>735021</td>\n",
              "    </tr>\n",
              "    <tr>\n",
              "      <th>12</th>\n",
              "      <td>January-2016</td>\n",
              "      <td>4640</td>\n",
              "      <td>630193</td>\n",
              "    </tr>\n",
              "    <tr>\n",
              "      <th>13</th>\n",
              "      <td>February-2016</td>\n",
              "      <td>7582</td>\n",
              "      <td>685628</td>\n",
              "    </tr>\n",
              "    <tr>\n",
              "      <th>14</th>\n",
              "      <td>March-2016</td>\n",
              "      <td>10260</td>\n",
              "      <td>688011</td>\n",
              "    </tr>\n",
              "    <tr>\n",
              "      <th>15</th>\n",
              "      <td>April-2016</td>\n",
              "      <td>12016</td>\n",
              "      <td>739762</td>\n",
              "    </tr>\n",
              "    <tr>\n",
              "      <th>16</th>\n",
              "      <td>May-2016</td>\n",
              "      <td>12789</td>\n",
              "      <td>752068</td>\n",
              "    </tr>\n",
              "    <tr>\n",
              "      <th>17</th>\n",
              "      <td>June-2016</td>\n",
              "      <td>12725</td>\n",
              "      <td>747018</td>\n",
              "    </tr>\n",
              "    <tr>\n",
              "      <th>18</th>\n",
              "      <td>July-2016</td>\n",
              "      <td>9929</td>\n",
              "      <td>710471</td>\n",
              "    </tr>\n",
              "    <tr>\n",
              "      <th>19</th>\n",
              "      <td>August-2016</td>\n",
              "      <td>9748</td>\n",
              "      <td>710978</td>\n",
              "    </tr>\n",
              "    <tr>\n",
              "      <th>20</th>\n",
              "      <td>September-2016</td>\n",
              "      <td>9828</td>\n",
              "      <td>756104</td>\n",
              "    </tr>\n",
              "    <tr>\n",
              "      <th>21</th>\n",
              "      <td>October-2016</td>\n",
              "      <td>9715</td>\n",
              "      <td>762691</td>\n",
              "    </tr>\n",
              "    <tr>\n",
              "      <th>22</th>\n",
              "      <td>November-2016</td>\n",
              "      <td>8503</td>\n",
              "      <td>777091</td>\n",
              "    </tr>\n",
              "    <tr>\n",
              "      <th>23</th>\n",
              "      <td>December-2016</td>\n",
              "      <td>5305</td>\n",
              "      <td>730124</td>\n",
              "    </tr>\n",
              "    <tr>\n",
              "      <th>24</th>\n",
              "      <td>January-2015</td>\n",
              "      <td>4318</td>\n",
              "      <td>552925</td>\n",
              "    </tr>\n",
              "    <tr>\n",
              "      <th>25</th>\n",
              "      <td>February-2015</td>\n",
              "      <td>6294</td>\n",
              "      <td>596320</td>\n",
              "    </tr>\n",
              "    <tr>\n",
              "      <th>26</th>\n",
              "      <td>March-2015</td>\n",
              "      <td>8886</td>\n",
              "      <td>613818</td>\n",
              "    </tr>\n",
              "    <tr>\n",
              "      <th>27</th>\n",
              "      <td>April-2015</td>\n",
              "      <td>11254</td>\n",
              "      <td>636094</td>\n",
              "    </tr>\n",
              "    <tr>\n",
              "      <th>28</th>\n",
              "      <td>May-2015</td>\n",
              "      <td>11640</td>\n",
              "      <td>649648</td>\n",
              "    </tr>\n",
              "    <tr>\n",
              "      <th>29</th>\n",
              "      <td>June-2015</td>\n",
              "      <td>11905</td>\n",
              "      <td>639309</td>\n",
              "    </tr>\n",
              "    <tr>\n",
              "      <th>30</th>\n",
              "      <td>July-2015</td>\n",
              "      <td>9813</td>\n",
              "      <td>608875</td>\n",
              "    </tr>\n",
              "    <tr>\n",
              "      <th>31</th>\n",
              "      <td>August-2015</td>\n",
              "      <td>7943</td>\n",
              "      <td>603534</td>\n",
              "    </tr>\n",
              "    <tr>\n",
              "      <th>32</th>\n",
              "      <td>September-2015</td>\n",
              "      <td>8147</td>\n",
              "      <td>627867</td>\n",
              "    </tr>\n",
              "    <tr>\n",
              "      <th>33</th>\n",
              "      <td>October-2015</td>\n",
              "      <td>8759</td>\n",
              "      <td>630254</td>\n",
              "    </tr>\n",
              "    <tr>\n",
              "      <th>34</th>\n",
              "      <td>November-2015</td>\n",
              "      <td>7337</td>\n",
              "      <td>632774</td>\n",
              "    </tr>\n",
              "    <tr>\n",
              "      <th>35</th>\n",
              "      <td>December-2015</td>\n",
              "      <td>4917</td>\n",
              "      <td>608714</td>\n",
              "    </tr>\n",
              "    <tr>\n",
              "      <th>36</th>\n",
              "      <td>January-2014</td>\n",
              "      <td>4103</td>\n",
              "      <td>526965</td>\n",
              "    </tr>\n",
              "    <tr>\n",
              "      <th>37</th>\n",
              "      <td>February-2014</td>\n",
              "      <td>5696</td>\n",
              "      <td>552859</td>\n",
              "    </tr>\n",
              "    <tr>\n",
              "      <th>38</th>\n",
              "      <td>March-2014</td>\n",
              "      <td>8052</td>\n",
              "      <td>558019</td>\n",
              "    </tr>\n",
              "    <tr>\n",
              "      <th>39</th>\n",
              "      <td>April-2014</td>\n",
              "      <td>9660</td>\n",
              "      <td>578354</td>\n",
              "    </tr>\n",
              "    <tr>\n",
              "      <th>40</th>\n",
              "      <td>May-2014</td>\n",
              "      <td>11013</td>\n",
              "      <td>584946</td>\n",
              "    </tr>\n",
              "    <tr>\n",
              "      <th>41</th>\n",
              "      <td>June-2014</td>\n",
              "      <td>10132</td>\n",
              "      <td>569174</td>\n",
              "    </tr>\n",
              "    <tr>\n",
              "      <th>42</th>\n",
              "      <td>July-2014</td>\n",
              "      <td>9152</td>\n",
              "      <td>550625</td>\n",
              "    </tr>\n",
              "    <tr>\n",
              "      <th>43</th>\n",
              "      <td>August-2014</td>\n",
              "      <td>7568</td>\n",
              "      <td>546482</td>\n",
              "    </tr>\n",
              "    <tr>\n",
              "      <th>44</th>\n",
              "      <td>September-2014</td>\n",
              "      <td>8001</td>\n",
              "      <td>574424</td>\n",
              "    </tr>\n",
              "    <tr>\n",
              "      <th>45</th>\n",
              "      <td>October-2014</td>\n",
              "      <td>8512</td>\n",
              "      <td>587945</td>\n",
              "    </tr>\n",
              "    <tr>\n",
              "      <th>46</th>\n",
              "      <td>November-2014</td>\n",
              "      <td>6475</td>\n",
              "      <td>577468</td>\n",
              "    </tr>\n",
              "    <tr>\n",
              "      <th>47</th>\n",
              "      <td>December-2014</td>\n",
              "      <td>4418</td>\n",
              "      <td>556259</td>\n",
              "    </tr>\n",
              "    <tr>\n",
              "      <th>48</th>\n",
              "      <td>January-2013</td>\n",
              "      <td>4230</td>\n",
              "      <td>482028</td>\n",
              "    </tr>\n",
              "    <tr>\n",
              "      <th>49</th>\n",
              "      <td>February-2013</td>\n",
              "      <td>5615</td>\n",
              "      <td>509447</td>\n",
              "    </tr>\n",
              "    <tr>\n",
              "      <th>50</th>\n",
              "      <td>March-2013</td>\n",
              "      <td>7536</td>\n",
              "      <td>517247</td>\n",
              "    </tr>\n",
              "    <tr>\n",
              "      <th>51</th>\n",
              "      <td>April-2013</td>\n",
              "      <td>9537</td>\n",
              "      <td>524823</td>\n",
              "    </tr>\n",
              "    <tr>\n",
              "      <th>52</th>\n",
              "      <td>May-2013</td>\n",
              "      <td>9945</td>\n",
              "      <td>540581</td>\n",
              "    </tr>\n",
              "    <tr>\n",
              "      <th>53</th>\n",
              "      <td>June-2013</td>\n",
              "      <td>8821</td>\n",
              "      <td>529614</td>\n",
              "    </tr>\n",
              "    <tr>\n",
              "      <th>54</th>\n",
              "      <td>July-2013</td>\n",
              "      <td>8367</td>\n",
              "      <td>512286</td>\n",
              "    </tr>\n",
              "    <tr>\n",
              "      <th>55</th>\n",
              "      <td>August-2013</td>\n",
              "      <td>7390</td>\n",
              "      <td>501742</td>\n",
              "    </tr>\n",
              "    <tr>\n",
              "      <th>56</th>\n",
              "      <td>September-2013</td>\n",
              "      <td>7256</td>\n",
              "      <td>532556</td>\n",
              "    </tr>\n",
              "    <tr>\n",
              "      <th>57</th>\n",
              "      <td>October-2013</td>\n",
              "      <td>7940</td>\n",
              "      <td>539354</td>\n",
              "    </tr>\n",
              "    <tr>\n",
              "      <th>58</th>\n",
              "      <td>November-2013</td>\n",
              "      <td>6354</td>\n",
              "      <td>538347</td>\n",
              "    </tr>\n",
              "    <tr>\n",
              "      <th>59</th>\n",
              "      <td>December-2013</td>\n",
              "      <td>4058</td>\n",
              "      <td>520189</td>\n",
              "    </tr>\n",
              "  </tbody>\n",
              "</table>\n",
              "</div>"
            ],
            "text/plain": [
              "         MonthYear  Sales  AveragePrice\n",
              "0     January-2017   5155        768351\n",
              "1    February-2017   7955        876363\n",
              "2       March-2017  11959        915353\n",
              "3       April-2017  11470        918138\n",
              "4         May-2017  10068        862109\n",
              "5        June-2017   7896        791949\n",
              "6        July-2017   5871        745909\n",
              "7      August-2017   6310        731606\n",
              "8   September-2017   6340        774946\n",
              "9     October-2017   7087        780643\n",
              "10   November-2017   7353        761985\n",
              "11   December-2017   4930        735021\n",
              "12    January-2016   4640        630193\n",
              "13   February-2016   7582        685628\n",
              "14      March-2016  10260        688011\n",
              "15      April-2016  12016        739762\n",
              "16        May-2016  12789        752068\n",
              "17       June-2016  12725        747018\n",
              "18       July-2016   9929        710471\n",
              "19     August-2016   9748        710978\n",
              "20  September-2016   9828        756104\n",
              "21    October-2016   9715        762691\n",
              "22   November-2016   8503        777091\n",
              "23   December-2016   5305        730124\n",
              "24    January-2015   4318        552925\n",
              "25   February-2015   6294        596320\n",
              "26      March-2015   8886        613818\n",
              "27      April-2015  11254        636094\n",
              "28        May-2015  11640        649648\n",
              "29       June-2015  11905        639309\n",
              "30       July-2015   9813        608875\n",
              "31     August-2015   7943        603534\n",
              "32  September-2015   8147        627867\n",
              "33    October-2015   8759        630254\n",
              "34   November-2015   7337        632774\n",
              "35   December-2015   4917        608714\n",
              "36    January-2014   4103        526965\n",
              "37   February-2014   5696        552859\n",
              "38      March-2014   8052        558019\n",
              "39      April-2014   9660        578354\n",
              "40        May-2014  11013        584946\n",
              "41       June-2014  10132        569174\n",
              "42       July-2014   9152        550625\n",
              "43     August-2014   7568        546482\n",
              "44  September-2014   8001        574424\n",
              "45    October-2014   8512        587945\n",
              "46   November-2014   6475        577468\n",
              "47   December-2014   4418        556259\n",
              "48    January-2013   4230        482028\n",
              "49   February-2013   5615        509447\n",
              "50      March-2013   7536        517247\n",
              "51      April-2013   9537        524823\n",
              "52        May-2013   9945        540581\n",
              "53       June-2013   8821        529614\n",
              "54       July-2013   8367        512286\n",
              "55     August-2013   7390        501742\n",
              "56  September-2013   7256        532556\n",
              "57    October-2013   7940        539354\n",
              "58   November-2013   6354        538347\n",
              "59   December-2013   4058        520189"
            ]
          },
          "metadata": {
            "tags": []
          },
          "execution_count": 71
        }
      ]
    },
    {
      "cell_type": "code",
      "metadata": {
        "id": "VQ8tgT_tX8nw"
      },
      "source": [
        "#Split month & year\n",
        "month = []\n",
        "year = []\n",
        "for i in sales['MonthYear']:\n",
        "  month.append(i.split('-')[0])\n",
        "  year.append(i.split('-')[1])"
      ],
      "execution_count": null,
      "outputs": []
    },
    {
      "cell_type": "code",
      "metadata": {
        "colab": {
          "base_uri": "https://localhost:8080/",
          "height": 1000
        },
        "id": "iCl25bhJY6Hp",
        "outputId": "582648e3-498c-45ba-9868-8aaf14f3e3c4"
      },
      "source": [
        "#Update the table\n",
        "sales['Month'] = month\n",
        "sales['Year'] = year\n",
        "sales"
      ],
      "execution_count": null,
      "outputs": [
        {
          "output_type": "execute_result",
          "data": {
            "text/html": [
              "<div>\n",
              "<style scoped>\n",
              "    .dataframe tbody tr th:only-of-type {\n",
              "        vertical-align: middle;\n",
              "    }\n",
              "\n",
              "    .dataframe tbody tr th {\n",
              "        vertical-align: top;\n",
              "    }\n",
              "\n",
              "    .dataframe thead th {\n",
              "        text-align: right;\n",
              "    }\n",
              "</style>\n",
              "<table border=\"1\" class=\"dataframe\">\n",
              "  <thead>\n",
              "    <tr style=\"text-align: right;\">\n",
              "      <th></th>\n",
              "      <th>MonthYear</th>\n",
              "      <th>Sales</th>\n",
              "      <th>AveragePrice</th>\n",
              "      <th>Month</th>\n",
              "      <th>Year</th>\n",
              "    </tr>\n",
              "  </thead>\n",
              "  <tbody>\n",
              "    <tr>\n",
              "      <th>0</th>\n",
              "      <td>January-2017</td>\n",
              "      <td>5155</td>\n",
              "      <td>768351</td>\n",
              "      <td>January</td>\n",
              "      <td>2017</td>\n",
              "    </tr>\n",
              "    <tr>\n",
              "      <th>1</th>\n",
              "      <td>February-2017</td>\n",
              "      <td>7955</td>\n",
              "      <td>876363</td>\n",
              "      <td>February</td>\n",
              "      <td>2017</td>\n",
              "    </tr>\n",
              "    <tr>\n",
              "      <th>2</th>\n",
              "      <td>March-2017</td>\n",
              "      <td>11959</td>\n",
              "      <td>915353</td>\n",
              "      <td>March</td>\n",
              "      <td>2017</td>\n",
              "    </tr>\n",
              "    <tr>\n",
              "      <th>3</th>\n",
              "      <td>April-2017</td>\n",
              "      <td>11470</td>\n",
              "      <td>918138</td>\n",
              "      <td>April</td>\n",
              "      <td>2017</td>\n",
              "    </tr>\n",
              "    <tr>\n",
              "      <th>4</th>\n",
              "      <td>May-2017</td>\n",
              "      <td>10068</td>\n",
              "      <td>862109</td>\n",
              "      <td>May</td>\n",
              "      <td>2017</td>\n",
              "    </tr>\n",
              "    <tr>\n",
              "      <th>5</th>\n",
              "      <td>June-2017</td>\n",
              "      <td>7896</td>\n",
              "      <td>791949</td>\n",
              "      <td>June</td>\n",
              "      <td>2017</td>\n",
              "    </tr>\n",
              "    <tr>\n",
              "      <th>6</th>\n",
              "      <td>July-2017</td>\n",
              "      <td>5871</td>\n",
              "      <td>745909</td>\n",
              "      <td>July</td>\n",
              "      <td>2017</td>\n",
              "    </tr>\n",
              "    <tr>\n",
              "      <th>7</th>\n",
              "      <td>August-2017</td>\n",
              "      <td>6310</td>\n",
              "      <td>731606</td>\n",
              "      <td>August</td>\n",
              "      <td>2017</td>\n",
              "    </tr>\n",
              "    <tr>\n",
              "      <th>8</th>\n",
              "      <td>September-2017</td>\n",
              "      <td>6340</td>\n",
              "      <td>774946</td>\n",
              "      <td>September</td>\n",
              "      <td>2017</td>\n",
              "    </tr>\n",
              "    <tr>\n",
              "      <th>9</th>\n",
              "      <td>October-2017</td>\n",
              "      <td>7087</td>\n",
              "      <td>780643</td>\n",
              "      <td>October</td>\n",
              "      <td>2017</td>\n",
              "    </tr>\n",
              "    <tr>\n",
              "      <th>10</th>\n",
              "      <td>November-2017</td>\n",
              "      <td>7353</td>\n",
              "      <td>761985</td>\n",
              "      <td>November</td>\n",
              "      <td>2017</td>\n",
              "    </tr>\n",
              "    <tr>\n",
              "      <th>11</th>\n",
              "      <td>December-2017</td>\n",
              "      <td>4930</td>\n",
              "      <td>735021</td>\n",
              "      <td>December</td>\n",
              "      <td>2017</td>\n",
              "    </tr>\n",
              "    <tr>\n",
              "      <th>12</th>\n",
              "      <td>January-2016</td>\n",
              "      <td>4640</td>\n",
              "      <td>630193</td>\n",
              "      <td>January</td>\n",
              "      <td>2016</td>\n",
              "    </tr>\n",
              "    <tr>\n",
              "      <th>13</th>\n",
              "      <td>February-2016</td>\n",
              "      <td>7582</td>\n",
              "      <td>685628</td>\n",
              "      <td>February</td>\n",
              "      <td>2016</td>\n",
              "    </tr>\n",
              "    <tr>\n",
              "      <th>14</th>\n",
              "      <td>March-2016</td>\n",
              "      <td>10260</td>\n",
              "      <td>688011</td>\n",
              "      <td>March</td>\n",
              "      <td>2016</td>\n",
              "    </tr>\n",
              "    <tr>\n",
              "      <th>15</th>\n",
              "      <td>April-2016</td>\n",
              "      <td>12016</td>\n",
              "      <td>739762</td>\n",
              "      <td>April</td>\n",
              "      <td>2016</td>\n",
              "    </tr>\n",
              "    <tr>\n",
              "      <th>16</th>\n",
              "      <td>May-2016</td>\n",
              "      <td>12789</td>\n",
              "      <td>752068</td>\n",
              "      <td>May</td>\n",
              "      <td>2016</td>\n",
              "    </tr>\n",
              "    <tr>\n",
              "      <th>17</th>\n",
              "      <td>June-2016</td>\n",
              "      <td>12725</td>\n",
              "      <td>747018</td>\n",
              "      <td>June</td>\n",
              "      <td>2016</td>\n",
              "    </tr>\n",
              "    <tr>\n",
              "      <th>18</th>\n",
              "      <td>July-2016</td>\n",
              "      <td>9929</td>\n",
              "      <td>710471</td>\n",
              "      <td>July</td>\n",
              "      <td>2016</td>\n",
              "    </tr>\n",
              "    <tr>\n",
              "      <th>19</th>\n",
              "      <td>August-2016</td>\n",
              "      <td>9748</td>\n",
              "      <td>710978</td>\n",
              "      <td>August</td>\n",
              "      <td>2016</td>\n",
              "    </tr>\n",
              "    <tr>\n",
              "      <th>20</th>\n",
              "      <td>September-2016</td>\n",
              "      <td>9828</td>\n",
              "      <td>756104</td>\n",
              "      <td>September</td>\n",
              "      <td>2016</td>\n",
              "    </tr>\n",
              "    <tr>\n",
              "      <th>21</th>\n",
              "      <td>October-2016</td>\n",
              "      <td>9715</td>\n",
              "      <td>762691</td>\n",
              "      <td>October</td>\n",
              "      <td>2016</td>\n",
              "    </tr>\n",
              "    <tr>\n",
              "      <th>22</th>\n",
              "      <td>November-2016</td>\n",
              "      <td>8503</td>\n",
              "      <td>777091</td>\n",
              "      <td>November</td>\n",
              "      <td>2016</td>\n",
              "    </tr>\n",
              "    <tr>\n",
              "      <th>23</th>\n",
              "      <td>December-2016</td>\n",
              "      <td>5305</td>\n",
              "      <td>730124</td>\n",
              "      <td>December</td>\n",
              "      <td>2016</td>\n",
              "    </tr>\n",
              "    <tr>\n",
              "      <th>24</th>\n",
              "      <td>January-2015</td>\n",
              "      <td>4318</td>\n",
              "      <td>552925</td>\n",
              "      <td>January</td>\n",
              "      <td>2015</td>\n",
              "    </tr>\n",
              "    <tr>\n",
              "      <th>25</th>\n",
              "      <td>February-2015</td>\n",
              "      <td>6294</td>\n",
              "      <td>596320</td>\n",
              "      <td>February</td>\n",
              "      <td>2015</td>\n",
              "    </tr>\n",
              "    <tr>\n",
              "      <th>26</th>\n",
              "      <td>March-2015</td>\n",
              "      <td>8886</td>\n",
              "      <td>613818</td>\n",
              "      <td>March</td>\n",
              "      <td>2015</td>\n",
              "    </tr>\n",
              "    <tr>\n",
              "      <th>27</th>\n",
              "      <td>April-2015</td>\n",
              "      <td>11254</td>\n",
              "      <td>636094</td>\n",
              "      <td>April</td>\n",
              "      <td>2015</td>\n",
              "    </tr>\n",
              "    <tr>\n",
              "      <th>28</th>\n",
              "      <td>May-2015</td>\n",
              "      <td>11640</td>\n",
              "      <td>649648</td>\n",
              "      <td>May</td>\n",
              "      <td>2015</td>\n",
              "    </tr>\n",
              "    <tr>\n",
              "      <th>29</th>\n",
              "      <td>June-2015</td>\n",
              "      <td>11905</td>\n",
              "      <td>639309</td>\n",
              "      <td>June</td>\n",
              "      <td>2015</td>\n",
              "    </tr>\n",
              "    <tr>\n",
              "      <th>30</th>\n",
              "      <td>July-2015</td>\n",
              "      <td>9813</td>\n",
              "      <td>608875</td>\n",
              "      <td>July</td>\n",
              "      <td>2015</td>\n",
              "    </tr>\n",
              "    <tr>\n",
              "      <th>31</th>\n",
              "      <td>August-2015</td>\n",
              "      <td>7943</td>\n",
              "      <td>603534</td>\n",
              "      <td>August</td>\n",
              "      <td>2015</td>\n",
              "    </tr>\n",
              "    <tr>\n",
              "      <th>32</th>\n",
              "      <td>September-2015</td>\n",
              "      <td>8147</td>\n",
              "      <td>627867</td>\n",
              "      <td>September</td>\n",
              "      <td>2015</td>\n",
              "    </tr>\n",
              "    <tr>\n",
              "      <th>33</th>\n",
              "      <td>October-2015</td>\n",
              "      <td>8759</td>\n",
              "      <td>630254</td>\n",
              "      <td>October</td>\n",
              "      <td>2015</td>\n",
              "    </tr>\n",
              "    <tr>\n",
              "      <th>34</th>\n",
              "      <td>November-2015</td>\n",
              "      <td>7337</td>\n",
              "      <td>632774</td>\n",
              "      <td>November</td>\n",
              "      <td>2015</td>\n",
              "    </tr>\n",
              "    <tr>\n",
              "      <th>35</th>\n",
              "      <td>December-2015</td>\n",
              "      <td>4917</td>\n",
              "      <td>608714</td>\n",
              "      <td>December</td>\n",
              "      <td>2015</td>\n",
              "    </tr>\n",
              "    <tr>\n",
              "      <th>36</th>\n",
              "      <td>January-2014</td>\n",
              "      <td>4103</td>\n",
              "      <td>526965</td>\n",
              "      <td>January</td>\n",
              "      <td>2014</td>\n",
              "    </tr>\n",
              "    <tr>\n",
              "      <th>37</th>\n",
              "      <td>February-2014</td>\n",
              "      <td>5696</td>\n",
              "      <td>552859</td>\n",
              "      <td>February</td>\n",
              "      <td>2014</td>\n",
              "    </tr>\n",
              "    <tr>\n",
              "      <th>38</th>\n",
              "      <td>March-2014</td>\n",
              "      <td>8052</td>\n",
              "      <td>558019</td>\n",
              "      <td>March</td>\n",
              "      <td>2014</td>\n",
              "    </tr>\n",
              "    <tr>\n",
              "      <th>39</th>\n",
              "      <td>April-2014</td>\n",
              "      <td>9660</td>\n",
              "      <td>578354</td>\n",
              "      <td>April</td>\n",
              "      <td>2014</td>\n",
              "    </tr>\n",
              "    <tr>\n",
              "      <th>40</th>\n",
              "      <td>May-2014</td>\n",
              "      <td>11013</td>\n",
              "      <td>584946</td>\n",
              "      <td>May</td>\n",
              "      <td>2014</td>\n",
              "    </tr>\n",
              "    <tr>\n",
              "      <th>41</th>\n",
              "      <td>June-2014</td>\n",
              "      <td>10132</td>\n",
              "      <td>569174</td>\n",
              "      <td>June</td>\n",
              "      <td>2014</td>\n",
              "    </tr>\n",
              "    <tr>\n",
              "      <th>42</th>\n",
              "      <td>July-2014</td>\n",
              "      <td>9152</td>\n",
              "      <td>550625</td>\n",
              "      <td>July</td>\n",
              "      <td>2014</td>\n",
              "    </tr>\n",
              "    <tr>\n",
              "      <th>43</th>\n",
              "      <td>August-2014</td>\n",
              "      <td>7568</td>\n",
              "      <td>546482</td>\n",
              "      <td>August</td>\n",
              "      <td>2014</td>\n",
              "    </tr>\n",
              "    <tr>\n",
              "      <th>44</th>\n",
              "      <td>September-2014</td>\n",
              "      <td>8001</td>\n",
              "      <td>574424</td>\n",
              "      <td>September</td>\n",
              "      <td>2014</td>\n",
              "    </tr>\n",
              "    <tr>\n",
              "      <th>45</th>\n",
              "      <td>October-2014</td>\n",
              "      <td>8512</td>\n",
              "      <td>587945</td>\n",
              "      <td>October</td>\n",
              "      <td>2014</td>\n",
              "    </tr>\n",
              "    <tr>\n",
              "      <th>46</th>\n",
              "      <td>November-2014</td>\n",
              "      <td>6475</td>\n",
              "      <td>577468</td>\n",
              "      <td>November</td>\n",
              "      <td>2014</td>\n",
              "    </tr>\n",
              "    <tr>\n",
              "      <th>47</th>\n",
              "      <td>December-2014</td>\n",
              "      <td>4418</td>\n",
              "      <td>556259</td>\n",
              "      <td>December</td>\n",
              "      <td>2014</td>\n",
              "    </tr>\n",
              "    <tr>\n",
              "      <th>48</th>\n",
              "      <td>January-2013</td>\n",
              "      <td>4230</td>\n",
              "      <td>482028</td>\n",
              "      <td>January</td>\n",
              "      <td>2013</td>\n",
              "    </tr>\n",
              "    <tr>\n",
              "      <th>49</th>\n",
              "      <td>February-2013</td>\n",
              "      <td>5615</td>\n",
              "      <td>509447</td>\n",
              "      <td>February</td>\n",
              "      <td>2013</td>\n",
              "    </tr>\n",
              "    <tr>\n",
              "      <th>50</th>\n",
              "      <td>March-2013</td>\n",
              "      <td>7536</td>\n",
              "      <td>517247</td>\n",
              "      <td>March</td>\n",
              "      <td>2013</td>\n",
              "    </tr>\n",
              "    <tr>\n",
              "      <th>51</th>\n",
              "      <td>April-2013</td>\n",
              "      <td>9537</td>\n",
              "      <td>524823</td>\n",
              "      <td>April</td>\n",
              "      <td>2013</td>\n",
              "    </tr>\n",
              "    <tr>\n",
              "      <th>52</th>\n",
              "      <td>May-2013</td>\n",
              "      <td>9945</td>\n",
              "      <td>540581</td>\n",
              "      <td>May</td>\n",
              "      <td>2013</td>\n",
              "    </tr>\n",
              "    <tr>\n",
              "      <th>53</th>\n",
              "      <td>June-2013</td>\n",
              "      <td>8821</td>\n",
              "      <td>529614</td>\n",
              "      <td>June</td>\n",
              "      <td>2013</td>\n",
              "    </tr>\n",
              "    <tr>\n",
              "      <th>54</th>\n",
              "      <td>July-2013</td>\n",
              "      <td>8367</td>\n",
              "      <td>512286</td>\n",
              "      <td>July</td>\n",
              "      <td>2013</td>\n",
              "    </tr>\n",
              "    <tr>\n",
              "      <th>55</th>\n",
              "      <td>August-2013</td>\n",
              "      <td>7390</td>\n",
              "      <td>501742</td>\n",
              "      <td>August</td>\n",
              "      <td>2013</td>\n",
              "    </tr>\n",
              "    <tr>\n",
              "      <th>56</th>\n",
              "      <td>September-2013</td>\n",
              "      <td>7256</td>\n",
              "      <td>532556</td>\n",
              "      <td>September</td>\n",
              "      <td>2013</td>\n",
              "    </tr>\n",
              "    <tr>\n",
              "      <th>57</th>\n",
              "      <td>October-2013</td>\n",
              "      <td>7940</td>\n",
              "      <td>539354</td>\n",
              "      <td>October</td>\n",
              "      <td>2013</td>\n",
              "    </tr>\n",
              "    <tr>\n",
              "      <th>58</th>\n",
              "      <td>November-2013</td>\n",
              "      <td>6354</td>\n",
              "      <td>538347</td>\n",
              "      <td>November</td>\n",
              "      <td>2013</td>\n",
              "    </tr>\n",
              "    <tr>\n",
              "      <th>59</th>\n",
              "      <td>December-2013</td>\n",
              "      <td>4058</td>\n",
              "      <td>520189</td>\n",
              "      <td>December</td>\n",
              "      <td>2013</td>\n",
              "    </tr>\n",
              "  </tbody>\n",
              "</table>\n",
              "</div>"
            ],
            "text/plain": [
              "         MonthYear  Sales  AveragePrice      Month  Year\n",
              "0     January-2017   5155        768351    January  2017\n",
              "1    February-2017   7955        876363   February  2017\n",
              "2       March-2017  11959        915353      March  2017\n",
              "3       April-2017  11470        918138      April  2017\n",
              "4         May-2017  10068        862109        May  2017\n",
              "5        June-2017   7896        791949       June  2017\n",
              "6        July-2017   5871        745909       July  2017\n",
              "7      August-2017   6310        731606     August  2017\n",
              "8   September-2017   6340        774946  September  2017\n",
              "9     October-2017   7087        780643    October  2017\n",
              "10   November-2017   7353        761985   November  2017\n",
              "11   December-2017   4930        735021   December  2017\n",
              "12    January-2016   4640        630193    January  2016\n",
              "13   February-2016   7582        685628   February  2016\n",
              "14      March-2016  10260        688011      March  2016\n",
              "15      April-2016  12016        739762      April  2016\n",
              "16        May-2016  12789        752068        May  2016\n",
              "17       June-2016  12725        747018       June  2016\n",
              "18       July-2016   9929        710471       July  2016\n",
              "19     August-2016   9748        710978     August  2016\n",
              "20  September-2016   9828        756104  September  2016\n",
              "21    October-2016   9715        762691    October  2016\n",
              "22   November-2016   8503        777091   November  2016\n",
              "23   December-2016   5305        730124   December  2016\n",
              "24    January-2015   4318        552925    January  2015\n",
              "25   February-2015   6294        596320   February  2015\n",
              "26      March-2015   8886        613818      March  2015\n",
              "27      April-2015  11254        636094      April  2015\n",
              "28        May-2015  11640        649648        May  2015\n",
              "29       June-2015  11905        639309       June  2015\n",
              "30       July-2015   9813        608875       July  2015\n",
              "31     August-2015   7943        603534     August  2015\n",
              "32  September-2015   8147        627867  September  2015\n",
              "33    October-2015   8759        630254    October  2015\n",
              "34   November-2015   7337        632774   November  2015\n",
              "35   December-2015   4917        608714   December  2015\n",
              "36    January-2014   4103        526965    January  2014\n",
              "37   February-2014   5696        552859   February  2014\n",
              "38      March-2014   8052        558019      March  2014\n",
              "39      April-2014   9660        578354      April  2014\n",
              "40        May-2014  11013        584946        May  2014\n",
              "41       June-2014  10132        569174       June  2014\n",
              "42       July-2014   9152        550625       July  2014\n",
              "43     August-2014   7568        546482     August  2014\n",
              "44  September-2014   8001        574424  September  2014\n",
              "45    October-2014   8512        587945    October  2014\n",
              "46   November-2014   6475        577468   November  2014\n",
              "47   December-2014   4418        556259   December  2014\n",
              "48    January-2013   4230        482028    January  2013\n",
              "49   February-2013   5615        509447   February  2013\n",
              "50      March-2013   7536        517247      March  2013\n",
              "51      April-2013   9537        524823      April  2013\n",
              "52        May-2013   9945        540581        May  2013\n",
              "53       June-2013   8821        529614       June  2013\n",
              "54       July-2013   8367        512286       July  2013\n",
              "55     August-2013   7390        501742     August  2013\n",
              "56  September-2013   7256        532556  September  2013\n",
              "57    October-2013   7940        539354    October  2013\n",
              "58   November-2013   6354        538347   November  2013\n",
              "59   December-2013   4058        520189   December  2013"
            ]
          },
          "metadata": {
            "tags": []
          },
          "execution_count": 73
        }
      ]
    },
    {
      "cell_type": "code",
      "metadata": {
        "id": "DS0roC3QZ2x0",
        "colab": {
          "base_uri": "https://localhost:8080/",
          "height": 1000
        },
        "outputId": "75628829-c33c-4db2-ab2b-0a955c0d1c7a"
      },
      "source": [
        "del sales['MonthYear']\n",
        "sales"
      ],
      "execution_count": null,
      "outputs": [
        {
          "output_type": "execute_result",
          "data": {
            "text/html": [
              "<div>\n",
              "<style scoped>\n",
              "    .dataframe tbody tr th:only-of-type {\n",
              "        vertical-align: middle;\n",
              "    }\n",
              "\n",
              "    .dataframe tbody tr th {\n",
              "        vertical-align: top;\n",
              "    }\n",
              "\n",
              "    .dataframe thead th {\n",
              "        text-align: right;\n",
              "    }\n",
              "</style>\n",
              "<table border=\"1\" class=\"dataframe\">\n",
              "  <thead>\n",
              "    <tr style=\"text-align: right;\">\n",
              "      <th></th>\n",
              "      <th>Sales</th>\n",
              "      <th>AveragePrice</th>\n",
              "      <th>Month</th>\n",
              "      <th>Year</th>\n",
              "    </tr>\n",
              "  </thead>\n",
              "  <tbody>\n",
              "    <tr>\n",
              "      <th>0</th>\n",
              "      <td>5155</td>\n",
              "      <td>768351</td>\n",
              "      <td>January</td>\n",
              "      <td>2017</td>\n",
              "    </tr>\n",
              "    <tr>\n",
              "      <th>1</th>\n",
              "      <td>7955</td>\n",
              "      <td>876363</td>\n",
              "      <td>February</td>\n",
              "      <td>2017</td>\n",
              "    </tr>\n",
              "    <tr>\n",
              "      <th>2</th>\n",
              "      <td>11959</td>\n",
              "      <td>915353</td>\n",
              "      <td>March</td>\n",
              "      <td>2017</td>\n",
              "    </tr>\n",
              "    <tr>\n",
              "      <th>3</th>\n",
              "      <td>11470</td>\n",
              "      <td>918138</td>\n",
              "      <td>April</td>\n",
              "      <td>2017</td>\n",
              "    </tr>\n",
              "    <tr>\n",
              "      <th>4</th>\n",
              "      <td>10068</td>\n",
              "      <td>862109</td>\n",
              "      <td>May</td>\n",
              "      <td>2017</td>\n",
              "    </tr>\n",
              "    <tr>\n",
              "      <th>5</th>\n",
              "      <td>7896</td>\n",
              "      <td>791949</td>\n",
              "      <td>June</td>\n",
              "      <td>2017</td>\n",
              "    </tr>\n",
              "    <tr>\n",
              "      <th>6</th>\n",
              "      <td>5871</td>\n",
              "      <td>745909</td>\n",
              "      <td>July</td>\n",
              "      <td>2017</td>\n",
              "    </tr>\n",
              "    <tr>\n",
              "      <th>7</th>\n",
              "      <td>6310</td>\n",
              "      <td>731606</td>\n",
              "      <td>August</td>\n",
              "      <td>2017</td>\n",
              "    </tr>\n",
              "    <tr>\n",
              "      <th>8</th>\n",
              "      <td>6340</td>\n",
              "      <td>774946</td>\n",
              "      <td>September</td>\n",
              "      <td>2017</td>\n",
              "    </tr>\n",
              "    <tr>\n",
              "      <th>9</th>\n",
              "      <td>7087</td>\n",
              "      <td>780643</td>\n",
              "      <td>October</td>\n",
              "      <td>2017</td>\n",
              "    </tr>\n",
              "    <tr>\n",
              "      <th>10</th>\n",
              "      <td>7353</td>\n",
              "      <td>761985</td>\n",
              "      <td>November</td>\n",
              "      <td>2017</td>\n",
              "    </tr>\n",
              "    <tr>\n",
              "      <th>11</th>\n",
              "      <td>4930</td>\n",
              "      <td>735021</td>\n",
              "      <td>December</td>\n",
              "      <td>2017</td>\n",
              "    </tr>\n",
              "    <tr>\n",
              "      <th>12</th>\n",
              "      <td>4640</td>\n",
              "      <td>630193</td>\n",
              "      <td>January</td>\n",
              "      <td>2016</td>\n",
              "    </tr>\n",
              "    <tr>\n",
              "      <th>13</th>\n",
              "      <td>7582</td>\n",
              "      <td>685628</td>\n",
              "      <td>February</td>\n",
              "      <td>2016</td>\n",
              "    </tr>\n",
              "    <tr>\n",
              "      <th>14</th>\n",
              "      <td>10260</td>\n",
              "      <td>688011</td>\n",
              "      <td>March</td>\n",
              "      <td>2016</td>\n",
              "    </tr>\n",
              "    <tr>\n",
              "      <th>15</th>\n",
              "      <td>12016</td>\n",
              "      <td>739762</td>\n",
              "      <td>April</td>\n",
              "      <td>2016</td>\n",
              "    </tr>\n",
              "    <tr>\n",
              "      <th>16</th>\n",
              "      <td>12789</td>\n",
              "      <td>752068</td>\n",
              "      <td>May</td>\n",
              "      <td>2016</td>\n",
              "    </tr>\n",
              "    <tr>\n",
              "      <th>17</th>\n",
              "      <td>12725</td>\n",
              "      <td>747018</td>\n",
              "      <td>June</td>\n",
              "      <td>2016</td>\n",
              "    </tr>\n",
              "    <tr>\n",
              "      <th>18</th>\n",
              "      <td>9929</td>\n",
              "      <td>710471</td>\n",
              "      <td>July</td>\n",
              "      <td>2016</td>\n",
              "    </tr>\n",
              "    <tr>\n",
              "      <th>19</th>\n",
              "      <td>9748</td>\n",
              "      <td>710978</td>\n",
              "      <td>August</td>\n",
              "      <td>2016</td>\n",
              "    </tr>\n",
              "    <tr>\n",
              "      <th>20</th>\n",
              "      <td>9828</td>\n",
              "      <td>756104</td>\n",
              "      <td>September</td>\n",
              "      <td>2016</td>\n",
              "    </tr>\n",
              "    <tr>\n",
              "      <th>21</th>\n",
              "      <td>9715</td>\n",
              "      <td>762691</td>\n",
              "      <td>October</td>\n",
              "      <td>2016</td>\n",
              "    </tr>\n",
              "    <tr>\n",
              "      <th>22</th>\n",
              "      <td>8503</td>\n",
              "      <td>777091</td>\n",
              "      <td>November</td>\n",
              "      <td>2016</td>\n",
              "    </tr>\n",
              "    <tr>\n",
              "      <th>23</th>\n",
              "      <td>5305</td>\n",
              "      <td>730124</td>\n",
              "      <td>December</td>\n",
              "      <td>2016</td>\n",
              "    </tr>\n",
              "    <tr>\n",
              "      <th>24</th>\n",
              "      <td>4318</td>\n",
              "      <td>552925</td>\n",
              "      <td>January</td>\n",
              "      <td>2015</td>\n",
              "    </tr>\n",
              "    <tr>\n",
              "      <th>25</th>\n",
              "      <td>6294</td>\n",
              "      <td>596320</td>\n",
              "      <td>February</td>\n",
              "      <td>2015</td>\n",
              "    </tr>\n",
              "    <tr>\n",
              "      <th>26</th>\n",
              "      <td>8886</td>\n",
              "      <td>613818</td>\n",
              "      <td>March</td>\n",
              "      <td>2015</td>\n",
              "    </tr>\n",
              "    <tr>\n",
              "      <th>27</th>\n",
              "      <td>11254</td>\n",
              "      <td>636094</td>\n",
              "      <td>April</td>\n",
              "      <td>2015</td>\n",
              "    </tr>\n",
              "    <tr>\n",
              "      <th>28</th>\n",
              "      <td>11640</td>\n",
              "      <td>649648</td>\n",
              "      <td>May</td>\n",
              "      <td>2015</td>\n",
              "    </tr>\n",
              "    <tr>\n",
              "      <th>29</th>\n",
              "      <td>11905</td>\n",
              "      <td>639309</td>\n",
              "      <td>June</td>\n",
              "      <td>2015</td>\n",
              "    </tr>\n",
              "    <tr>\n",
              "      <th>30</th>\n",
              "      <td>9813</td>\n",
              "      <td>608875</td>\n",
              "      <td>July</td>\n",
              "      <td>2015</td>\n",
              "    </tr>\n",
              "    <tr>\n",
              "      <th>31</th>\n",
              "      <td>7943</td>\n",
              "      <td>603534</td>\n",
              "      <td>August</td>\n",
              "      <td>2015</td>\n",
              "    </tr>\n",
              "    <tr>\n",
              "      <th>32</th>\n",
              "      <td>8147</td>\n",
              "      <td>627867</td>\n",
              "      <td>September</td>\n",
              "      <td>2015</td>\n",
              "    </tr>\n",
              "    <tr>\n",
              "      <th>33</th>\n",
              "      <td>8759</td>\n",
              "      <td>630254</td>\n",
              "      <td>October</td>\n",
              "      <td>2015</td>\n",
              "    </tr>\n",
              "    <tr>\n",
              "      <th>34</th>\n",
              "      <td>7337</td>\n",
              "      <td>632774</td>\n",
              "      <td>November</td>\n",
              "      <td>2015</td>\n",
              "    </tr>\n",
              "    <tr>\n",
              "      <th>35</th>\n",
              "      <td>4917</td>\n",
              "      <td>608714</td>\n",
              "      <td>December</td>\n",
              "      <td>2015</td>\n",
              "    </tr>\n",
              "    <tr>\n",
              "      <th>36</th>\n",
              "      <td>4103</td>\n",
              "      <td>526965</td>\n",
              "      <td>January</td>\n",
              "      <td>2014</td>\n",
              "    </tr>\n",
              "    <tr>\n",
              "      <th>37</th>\n",
              "      <td>5696</td>\n",
              "      <td>552859</td>\n",
              "      <td>February</td>\n",
              "      <td>2014</td>\n",
              "    </tr>\n",
              "    <tr>\n",
              "      <th>38</th>\n",
              "      <td>8052</td>\n",
              "      <td>558019</td>\n",
              "      <td>March</td>\n",
              "      <td>2014</td>\n",
              "    </tr>\n",
              "    <tr>\n",
              "      <th>39</th>\n",
              "      <td>9660</td>\n",
              "      <td>578354</td>\n",
              "      <td>April</td>\n",
              "      <td>2014</td>\n",
              "    </tr>\n",
              "    <tr>\n",
              "      <th>40</th>\n",
              "      <td>11013</td>\n",
              "      <td>584946</td>\n",
              "      <td>May</td>\n",
              "      <td>2014</td>\n",
              "    </tr>\n",
              "    <tr>\n",
              "      <th>41</th>\n",
              "      <td>10132</td>\n",
              "      <td>569174</td>\n",
              "      <td>June</td>\n",
              "      <td>2014</td>\n",
              "    </tr>\n",
              "    <tr>\n",
              "      <th>42</th>\n",
              "      <td>9152</td>\n",
              "      <td>550625</td>\n",
              "      <td>July</td>\n",
              "      <td>2014</td>\n",
              "    </tr>\n",
              "    <tr>\n",
              "      <th>43</th>\n",
              "      <td>7568</td>\n",
              "      <td>546482</td>\n",
              "      <td>August</td>\n",
              "      <td>2014</td>\n",
              "    </tr>\n",
              "    <tr>\n",
              "      <th>44</th>\n",
              "      <td>8001</td>\n",
              "      <td>574424</td>\n",
              "      <td>September</td>\n",
              "      <td>2014</td>\n",
              "    </tr>\n",
              "    <tr>\n",
              "      <th>45</th>\n",
              "      <td>8512</td>\n",
              "      <td>587945</td>\n",
              "      <td>October</td>\n",
              "      <td>2014</td>\n",
              "    </tr>\n",
              "    <tr>\n",
              "      <th>46</th>\n",
              "      <td>6475</td>\n",
              "      <td>577468</td>\n",
              "      <td>November</td>\n",
              "      <td>2014</td>\n",
              "    </tr>\n",
              "    <tr>\n",
              "      <th>47</th>\n",
              "      <td>4418</td>\n",
              "      <td>556259</td>\n",
              "      <td>December</td>\n",
              "      <td>2014</td>\n",
              "    </tr>\n",
              "    <tr>\n",
              "      <th>48</th>\n",
              "      <td>4230</td>\n",
              "      <td>482028</td>\n",
              "      <td>January</td>\n",
              "      <td>2013</td>\n",
              "    </tr>\n",
              "    <tr>\n",
              "      <th>49</th>\n",
              "      <td>5615</td>\n",
              "      <td>509447</td>\n",
              "      <td>February</td>\n",
              "      <td>2013</td>\n",
              "    </tr>\n",
              "    <tr>\n",
              "      <th>50</th>\n",
              "      <td>7536</td>\n",
              "      <td>517247</td>\n",
              "      <td>March</td>\n",
              "      <td>2013</td>\n",
              "    </tr>\n",
              "    <tr>\n",
              "      <th>51</th>\n",
              "      <td>9537</td>\n",
              "      <td>524823</td>\n",
              "      <td>April</td>\n",
              "      <td>2013</td>\n",
              "    </tr>\n",
              "    <tr>\n",
              "      <th>52</th>\n",
              "      <td>9945</td>\n",
              "      <td>540581</td>\n",
              "      <td>May</td>\n",
              "      <td>2013</td>\n",
              "    </tr>\n",
              "    <tr>\n",
              "      <th>53</th>\n",
              "      <td>8821</td>\n",
              "      <td>529614</td>\n",
              "      <td>June</td>\n",
              "      <td>2013</td>\n",
              "    </tr>\n",
              "    <tr>\n",
              "      <th>54</th>\n",
              "      <td>8367</td>\n",
              "      <td>512286</td>\n",
              "      <td>July</td>\n",
              "      <td>2013</td>\n",
              "    </tr>\n",
              "    <tr>\n",
              "      <th>55</th>\n",
              "      <td>7390</td>\n",
              "      <td>501742</td>\n",
              "      <td>August</td>\n",
              "      <td>2013</td>\n",
              "    </tr>\n",
              "    <tr>\n",
              "      <th>56</th>\n",
              "      <td>7256</td>\n",
              "      <td>532556</td>\n",
              "      <td>September</td>\n",
              "      <td>2013</td>\n",
              "    </tr>\n",
              "    <tr>\n",
              "      <th>57</th>\n",
              "      <td>7940</td>\n",
              "      <td>539354</td>\n",
              "      <td>October</td>\n",
              "      <td>2013</td>\n",
              "    </tr>\n",
              "    <tr>\n",
              "      <th>58</th>\n",
              "      <td>6354</td>\n",
              "      <td>538347</td>\n",
              "      <td>November</td>\n",
              "      <td>2013</td>\n",
              "    </tr>\n",
              "    <tr>\n",
              "      <th>59</th>\n",
              "      <td>4058</td>\n",
              "      <td>520189</td>\n",
              "      <td>December</td>\n",
              "      <td>2013</td>\n",
              "    </tr>\n",
              "  </tbody>\n",
              "</table>\n",
              "</div>"
            ],
            "text/plain": [
              "    Sales  AveragePrice      Month  Year\n",
              "0    5155        768351    January  2017\n",
              "1    7955        876363   February  2017\n",
              "2   11959        915353      March  2017\n",
              "3   11470        918138      April  2017\n",
              "4   10068        862109        May  2017\n",
              "5    7896        791949       June  2017\n",
              "6    5871        745909       July  2017\n",
              "7    6310        731606     August  2017\n",
              "8    6340        774946  September  2017\n",
              "9    7087        780643    October  2017\n",
              "10   7353        761985   November  2017\n",
              "11   4930        735021   December  2017\n",
              "12   4640        630193    January  2016\n",
              "13   7582        685628   February  2016\n",
              "14  10260        688011      March  2016\n",
              "15  12016        739762      April  2016\n",
              "16  12789        752068        May  2016\n",
              "17  12725        747018       June  2016\n",
              "18   9929        710471       July  2016\n",
              "19   9748        710978     August  2016\n",
              "20   9828        756104  September  2016\n",
              "21   9715        762691    October  2016\n",
              "22   8503        777091   November  2016\n",
              "23   5305        730124   December  2016\n",
              "24   4318        552925    January  2015\n",
              "25   6294        596320   February  2015\n",
              "26   8886        613818      March  2015\n",
              "27  11254        636094      April  2015\n",
              "28  11640        649648        May  2015\n",
              "29  11905        639309       June  2015\n",
              "30   9813        608875       July  2015\n",
              "31   7943        603534     August  2015\n",
              "32   8147        627867  September  2015\n",
              "33   8759        630254    October  2015\n",
              "34   7337        632774   November  2015\n",
              "35   4917        608714   December  2015\n",
              "36   4103        526965    January  2014\n",
              "37   5696        552859   February  2014\n",
              "38   8052        558019      March  2014\n",
              "39   9660        578354      April  2014\n",
              "40  11013        584946        May  2014\n",
              "41  10132        569174       June  2014\n",
              "42   9152        550625       July  2014\n",
              "43   7568        546482     August  2014\n",
              "44   8001        574424  September  2014\n",
              "45   8512        587945    October  2014\n",
              "46   6475        577468   November  2014\n",
              "47   4418        556259   December  2014\n",
              "48   4230        482028    January  2013\n",
              "49   5615        509447   February  2013\n",
              "50   7536        517247      March  2013\n",
              "51   9537        524823      April  2013\n",
              "52   9945        540581        May  2013\n",
              "53   8821        529614       June  2013\n",
              "54   8367        512286       July  2013\n",
              "55   7390        501742     August  2013\n",
              "56   7256        532556  September  2013\n",
              "57   7940        539354    October  2013\n",
              "58   6354        538347   November  2013\n",
              "59   4058        520189   December  2013"
            ]
          },
          "metadata": {
            "tags": []
          },
          "execution_count": 74
        }
      ]
    },
    {
      "cell_type": "code",
      "metadata": {
        "colab": {
          "base_uri": "https://localhost:8080/",
          "height": 462
        },
        "id": "If4zGnc7eZcq",
        "outputId": "39291b66-3b96-45c6-dad1-7e70df07302b"
      },
      "source": [
        "new_sales = sales.pivot_table(index='Month', columns='Year')\n",
        "new_sales.sort_index\n",
        "new_sales"
      ],
      "execution_count": null,
      "outputs": [
        {
          "output_type": "execute_result",
          "data": {
            "text/html": [
              "<div>\n",
              "<style scoped>\n",
              "    .dataframe tbody tr th:only-of-type {\n",
              "        vertical-align: middle;\n",
              "    }\n",
              "\n",
              "    .dataframe tbody tr th {\n",
              "        vertical-align: top;\n",
              "    }\n",
              "\n",
              "    .dataframe thead tr th {\n",
              "        text-align: left;\n",
              "    }\n",
              "\n",
              "    .dataframe thead tr:last-of-type th {\n",
              "        text-align: right;\n",
              "    }\n",
              "</style>\n",
              "<table border=\"1\" class=\"dataframe\">\n",
              "  <thead>\n",
              "    <tr>\n",
              "      <th></th>\n",
              "      <th colspan=\"5\" halign=\"left\">AveragePrice</th>\n",
              "      <th colspan=\"5\" halign=\"left\">Sales</th>\n",
              "    </tr>\n",
              "    <tr>\n",
              "      <th>Year</th>\n",
              "      <th>2013</th>\n",
              "      <th>2014</th>\n",
              "      <th>2015</th>\n",
              "      <th>2016</th>\n",
              "      <th>2017</th>\n",
              "      <th>2013</th>\n",
              "      <th>2014</th>\n",
              "      <th>2015</th>\n",
              "      <th>2016</th>\n",
              "      <th>2017</th>\n",
              "    </tr>\n",
              "    <tr>\n",
              "      <th>Month</th>\n",
              "      <th></th>\n",
              "      <th></th>\n",
              "      <th></th>\n",
              "      <th></th>\n",
              "      <th></th>\n",
              "      <th></th>\n",
              "      <th></th>\n",
              "      <th></th>\n",
              "      <th></th>\n",
              "      <th></th>\n",
              "    </tr>\n",
              "  </thead>\n",
              "  <tbody>\n",
              "    <tr>\n",
              "      <th>April</th>\n",
              "      <td>524823</td>\n",
              "      <td>578354</td>\n",
              "      <td>636094</td>\n",
              "      <td>739762</td>\n",
              "      <td>918138</td>\n",
              "      <td>9537</td>\n",
              "      <td>9660</td>\n",
              "      <td>11254</td>\n",
              "      <td>12016</td>\n",
              "      <td>11470</td>\n",
              "    </tr>\n",
              "    <tr>\n",
              "      <th>August</th>\n",
              "      <td>501742</td>\n",
              "      <td>546482</td>\n",
              "      <td>603534</td>\n",
              "      <td>710978</td>\n",
              "      <td>731606</td>\n",
              "      <td>7390</td>\n",
              "      <td>7568</td>\n",
              "      <td>7943</td>\n",
              "      <td>9748</td>\n",
              "      <td>6310</td>\n",
              "    </tr>\n",
              "    <tr>\n",
              "      <th>December</th>\n",
              "      <td>520189</td>\n",
              "      <td>556259</td>\n",
              "      <td>608714</td>\n",
              "      <td>730124</td>\n",
              "      <td>735021</td>\n",
              "      <td>4058</td>\n",
              "      <td>4418</td>\n",
              "      <td>4917</td>\n",
              "      <td>5305</td>\n",
              "      <td>4930</td>\n",
              "    </tr>\n",
              "    <tr>\n",
              "      <th>February</th>\n",
              "      <td>509447</td>\n",
              "      <td>552859</td>\n",
              "      <td>596320</td>\n",
              "      <td>685628</td>\n",
              "      <td>876363</td>\n",
              "      <td>5615</td>\n",
              "      <td>5696</td>\n",
              "      <td>6294</td>\n",
              "      <td>7582</td>\n",
              "      <td>7955</td>\n",
              "    </tr>\n",
              "    <tr>\n",
              "      <th>January</th>\n",
              "      <td>482028</td>\n",
              "      <td>526965</td>\n",
              "      <td>552925</td>\n",
              "      <td>630193</td>\n",
              "      <td>768351</td>\n",
              "      <td>4230</td>\n",
              "      <td>4103</td>\n",
              "      <td>4318</td>\n",
              "      <td>4640</td>\n",
              "      <td>5155</td>\n",
              "    </tr>\n",
              "    <tr>\n",
              "      <th>July</th>\n",
              "      <td>512286</td>\n",
              "      <td>550625</td>\n",
              "      <td>608875</td>\n",
              "      <td>710471</td>\n",
              "      <td>745909</td>\n",
              "      <td>8367</td>\n",
              "      <td>9152</td>\n",
              "      <td>9813</td>\n",
              "      <td>9929</td>\n",
              "      <td>5871</td>\n",
              "    </tr>\n",
              "    <tr>\n",
              "      <th>June</th>\n",
              "      <td>529614</td>\n",
              "      <td>569174</td>\n",
              "      <td>639309</td>\n",
              "      <td>747018</td>\n",
              "      <td>791949</td>\n",
              "      <td>8821</td>\n",
              "      <td>10132</td>\n",
              "      <td>11905</td>\n",
              "      <td>12725</td>\n",
              "      <td>7896</td>\n",
              "    </tr>\n",
              "    <tr>\n",
              "      <th>March</th>\n",
              "      <td>517247</td>\n",
              "      <td>558019</td>\n",
              "      <td>613818</td>\n",
              "      <td>688011</td>\n",
              "      <td>915353</td>\n",
              "      <td>7536</td>\n",
              "      <td>8052</td>\n",
              "      <td>8886</td>\n",
              "      <td>10260</td>\n",
              "      <td>11959</td>\n",
              "    </tr>\n",
              "    <tr>\n",
              "      <th>May</th>\n",
              "      <td>540581</td>\n",
              "      <td>584946</td>\n",
              "      <td>649648</td>\n",
              "      <td>752068</td>\n",
              "      <td>862109</td>\n",
              "      <td>9945</td>\n",
              "      <td>11013</td>\n",
              "      <td>11640</td>\n",
              "      <td>12789</td>\n",
              "      <td>10068</td>\n",
              "    </tr>\n",
              "    <tr>\n",
              "      <th>November</th>\n",
              "      <td>538347</td>\n",
              "      <td>577468</td>\n",
              "      <td>632774</td>\n",
              "      <td>777091</td>\n",
              "      <td>761985</td>\n",
              "      <td>6354</td>\n",
              "      <td>6475</td>\n",
              "      <td>7337</td>\n",
              "      <td>8503</td>\n",
              "      <td>7353</td>\n",
              "    </tr>\n",
              "    <tr>\n",
              "      <th>October</th>\n",
              "      <td>539354</td>\n",
              "      <td>587945</td>\n",
              "      <td>630254</td>\n",
              "      <td>762691</td>\n",
              "      <td>780643</td>\n",
              "      <td>7940</td>\n",
              "      <td>8512</td>\n",
              "      <td>8759</td>\n",
              "      <td>9715</td>\n",
              "      <td>7087</td>\n",
              "    </tr>\n",
              "    <tr>\n",
              "      <th>September</th>\n",
              "      <td>532556</td>\n",
              "      <td>574424</td>\n",
              "      <td>627867</td>\n",
              "      <td>756104</td>\n",
              "      <td>774946</td>\n",
              "      <td>7256</td>\n",
              "      <td>8001</td>\n",
              "      <td>8147</td>\n",
              "      <td>9828</td>\n",
              "      <td>6340</td>\n",
              "    </tr>\n",
              "  </tbody>\n",
              "</table>\n",
              "</div>"
            ],
            "text/plain": [
              "          AveragePrice                          ...  Sales                     \n",
              "Year              2013    2014    2015    2016  ...   2014   2015   2016   2017\n",
              "Month                                           ...                            \n",
              "April           524823  578354  636094  739762  ...   9660  11254  12016  11470\n",
              "August          501742  546482  603534  710978  ...   7568   7943   9748   6310\n",
              "December        520189  556259  608714  730124  ...   4418   4917   5305   4930\n",
              "February        509447  552859  596320  685628  ...   5696   6294   7582   7955\n",
              "January         482028  526965  552925  630193  ...   4103   4318   4640   5155\n",
              "July            512286  550625  608875  710471  ...   9152   9813   9929   5871\n",
              "June            529614  569174  639309  747018  ...  10132  11905  12725   7896\n",
              "March           517247  558019  613818  688011  ...   8052   8886  10260  11959\n",
              "May             540581  584946  649648  752068  ...  11013  11640  12789  10068\n",
              "November        538347  577468  632774  777091  ...   6475   7337   8503   7353\n",
              "October         539354  587945  630254  762691  ...   8512   8759   9715   7087\n",
              "September       532556  574424  627867  756104  ...   8001   8147   9828   6340\n",
              "\n",
              "[12 rows x 10 columns]"
            ]
          },
          "metadata": {
            "tags": []
          },
          "execution_count": 75
        }
      ]
    },
    {
      "cell_type": "code",
      "metadata": {
        "id": "PbzIEypgaaR6",
        "colab": {
          "base_uri": "https://localhost:8080/",
          "height": 535
        },
        "outputId": "c1d6286a-5266-421a-9e85-3baa016ae6ef"
      },
      "source": [
        "plt.figure(figsize=(15,8))\n",
        "plt.title('Monthy Sales',fontsize=30)\n",
        "plt.plot(new_sales.index,new_sales.iloc[:,5], label = \"2013\")\n",
        "plt.plot(new_sales.index,new_sales.iloc[:,6], label = \"2014\")\n",
        "plt.plot(new_sales.index,new_sales.iloc[:,7], label = \"2015\")\n",
        "plt.plot(new_sales.index,new_sales.iloc[:,8], label = \"2016\")\n",
        "plt.plot(new_sales.index,new_sales.iloc[:,9], label = \"2017\")\n",
        "plt.xlabel('Months',fontsize=20)\n",
        "plt.ylabel('Sales',fontsize=20)\n",
        "plt.legend()\n",
        "plt.savefig('Fig_4_2_Desai_Ashutosh.png')"
      ],
      "execution_count": null,
      "outputs": [
        {
          "output_type": "display_data",
          "data": {
            "image/png": "[encoded data removed]",
            "text/plain": [
              "<Figure size 1080x576 with 1 Axes>"
            ]
          },
          "metadata": {
            "tags": [],
            "needs_background": "light"
          }
        }
      ]
    },
    {
      "cell_type": "code",
      "metadata": {
        "id": "_VOXO4rmcsxB",
        "colab": {
          "base_uri": "https://localhost:8080/",
          "height": 225
        },
        "outputId": "eccfebc3-f223-4ea1-f676-7c460081f5c0"
      },
      "source": [
        "#a.) Pre-pivoting\n",
        "pre_pivot = sales.groupby(['Year']).sum()\n",
        "pre_pivot"
      ],
      "execution_count": null,
      "outputs": [
        {
          "output_type": "execute_result",
          "data": {
            "text/html": [
              "<div>\n",
              "<style scoped>\n",
              "    .dataframe tbody tr th:only-of-type {\n",
              "        vertical-align: middle;\n",
              "    }\n",
              "\n",
              "    .dataframe tbody tr th {\n",
              "        vertical-align: top;\n",
              "    }\n",
              "\n",
              "    .dataframe thead th {\n",
              "        text-align: right;\n",
              "    }\n",
              "</style>\n",
              "<table border=\"1\" class=\"dataframe\">\n",
              "  <thead>\n",
              "    <tr style=\"text-align: right;\">\n",
              "      <th></th>\n",
              "      <th>Sales</th>\n",
              "      <th>AveragePrice</th>\n",
              "    </tr>\n",
              "    <tr>\n",
              "      <th>Year</th>\n",
              "      <th></th>\n",
              "      <th></th>\n",
              "    </tr>\n",
              "  </thead>\n",
              "  <tbody>\n",
              "    <tr>\n",
              "      <th>2013</th>\n",
              "      <td>87049</td>\n",
              "      <td>6248214</td>\n",
              "    </tr>\n",
              "    <tr>\n",
              "      <th>2014</th>\n",
              "      <td>92782</td>\n",
              "      <td>6763520</td>\n",
              "    </tr>\n",
              "    <tr>\n",
              "      <th>2015</th>\n",
              "      <td>101213</td>\n",
              "      <td>7400132</td>\n",
              "    </tr>\n",
              "    <tr>\n",
              "      <th>2016</th>\n",
              "      <td>113040</td>\n",
              "      <td>8690139</td>\n",
              "    </tr>\n",
              "    <tr>\n",
              "      <th>2017</th>\n",
              "      <td>92394</td>\n",
              "      <td>9662373</td>\n",
              "    </tr>\n",
              "  </tbody>\n",
              "</table>\n",
              "</div>"
            ],
            "text/plain": [
              "       Sales  AveragePrice\n",
              "Year                      \n",
              "2013   87049       6248214\n",
              "2014   92782       6763520\n",
              "2015  101213       7400132\n",
              "2016  113040       8690139\n",
              "2017   92394       9662373"
            ]
          },
          "metadata": {
            "tags": []
          },
          "execution_count": 77
        }
      ]
    },
    {
      "cell_type": "code",
      "metadata": {
        "id": "fxLY1d71doe6",
        "colab": {
          "base_uri": "https://localhost:8080/",
          "height": 535
        },
        "outputId": "27622619-77c0-4c92-b5ed-fd838b693bd1"
      },
      "source": [
        "plt.figure(figsize=(15,8))\n",
        "plt.title('Yearly sales : PRE-PIVOT',fontsize=30)\n",
        "plt.bar(pre_pivot.index,pre_pivot.iloc[:,0])\n",
        "plt.xlabel('Years',fontsize=20)\n",
        "plt.ylabel('Sales',fontsize=20)\n",
        "plt.savefig('Fig_4_3_a_Desai_Ashutosh.png')"
      ],
      "execution_count": null,
      "outputs": [
        {
          "output_type": "display_data",
          "data": {
            "image/png": "[encoded data removed]",
            "text/plain": [
              "<Figure size 1080x576 with 1 Axes>"
            ]
          },
          "metadata": {
            "tags": [],
            "needs_background": "light"
          }
        }
      ]
    },
    {
      "cell_type": "code",
      "metadata": {
        "colab": {
          "base_uri": "https://localhost:8080/",
          "height": 462
        },
        "id": "L4MXQ5DkmPPH",
        "outputId": "a45d8c49-7b9f-4fb2-f0e8-b77af7b5ad54"
      },
      "source": [
        "#b.) Post-pivoting\n",
        "new_sales"
      ],
      "execution_count": null,
      "outputs": [
        {
          "output_type": "execute_result",
          "data": {
            "text/html": [
              "<div>\n",
              "<style scoped>\n",
              "    .dataframe tbody tr th:only-of-type {\n",
              "        vertical-align: middle;\n",
              "    }\n",
              "\n",
              "    .dataframe tbody tr th {\n",
              "        vertical-align: top;\n",
              "    }\n",
              "\n",
              "    .dataframe thead tr th {\n",
              "        text-align: left;\n",
              "    }\n",
              "\n",
              "    .dataframe thead tr:last-of-type th {\n",
              "        text-align: right;\n",
              "    }\n",
              "</style>\n",
              "<table border=\"1\" class=\"dataframe\">\n",
              "  <thead>\n",
              "    <tr>\n",
              "      <th></th>\n",
              "      <th colspan=\"5\" halign=\"left\">AveragePrice</th>\n",
              "      <th colspan=\"5\" halign=\"left\">Sales</th>\n",
              "    </tr>\n",
              "    <tr>\n",
              "      <th>Year</th>\n",
              "      <th>2013</th>\n",
              "      <th>2014</th>\n",
              "      <th>2015</th>\n",
              "      <th>2016</th>\n",
              "      <th>2017</th>\n",
              "      <th>2013</th>\n",
              "      <th>2014</th>\n",
              "      <th>2015</th>\n",
              "      <th>2016</th>\n",
              "      <th>2017</th>\n",
              "    </tr>\n",
              "    <tr>\n",
              "      <th>Month</th>\n",
              "      <th></th>\n",
              "      <th></th>\n",
              "      <th></th>\n",
              "      <th></th>\n",
              "      <th></th>\n",
              "      <th></th>\n",
              "      <th></th>\n",
              "      <th></th>\n",
              "      <th></th>\n",
              "      <th></th>\n",
              "    </tr>\n",
              "  </thead>\n",
              "  <tbody>\n",
              "    <tr>\n",
              "      <th>April</th>\n",
              "      <td>524823</td>\n",
              "      <td>578354</td>\n",
              "      <td>636094</td>\n",
              "      <td>739762</td>\n",
              "      <td>918138</td>\n",
              "      <td>9537</td>\n",
              "      <td>9660</td>\n",
              "      <td>11254</td>\n",
              "      <td>12016</td>\n",
              "      <td>11470</td>\n",
              "    </tr>\n",
              "    <tr>\n",
              "      <th>August</th>\n",
              "      <td>501742</td>\n",
              "      <td>546482</td>\n",
              "      <td>603534</td>\n",
              "      <td>710978</td>\n",
              "      <td>731606</td>\n",
              "      <td>7390</td>\n",
              "      <td>7568</td>\n",
              "      <td>7943</td>\n",
              "      <td>9748</td>\n",
              "      <td>6310</td>\n",
              "    </tr>\n",
              "    <tr>\n",
              "      <th>December</th>\n",
              "      <td>520189</td>\n",
              "      <td>556259</td>\n",
              "      <td>608714</td>\n",
              "      <td>730124</td>\n",
              "      <td>735021</td>\n",
              "      <td>4058</td>\n",
              "      <td>4418</td>\n",
              "      <td>4917</td>\n",
              "      <td>5305</td>\n",
              "      <td>4930</td>\n",
              "    </tr>\n",
              "    <tr>\n",
              "      <th>February</th>\n",
              "      <td>509447</td>\n",
              "      <td>552859</td>\n",
              "      <td>596320</td>\n",
              "      <td>685628</td>\n",
              "      <td>876363</td>\n",
              "      <td>5615</td>\n",
              "      <td>5696</td>\n",
              "      <td>6294</td>\n",
              "      <td>7582</td>\n",
              "      <td>7955</td>\n",
              "    </tr>\n",
              "    <tr>\n",
              "      <th>January</th>\n",
              "      <td>482028</td>\n",
              "      <td>526965</td>\n",
              "      <td>552925</td>\n",
              "      <td>630193</td>\n",
              "      <td>768351</td>\n",
              "      <td>4230</td>\n",
              "      <td>4103</td>\n",
              "      <td>4318</td>\n",
              "      <td>4640</td>\n",
              "      <td>5155</td>\n",
              "    </tr>\n",
              "    <tr>\n",
              "      <th>July</th>\n",
              "      <td>512286</td>\n",
              "      <td>550625</td>\n",
              "      <td>608875</td>\n",
              "      <td>710471</td>\n",
              "      <td>745909</td>\n",
              "      <td>8367</td>\n",
              "      <td>9152</td>\n",
              "      <td>9813</td>\n",
              "      <td>9929</td>\n",
              "      <td>5871</td>\n",
              "    </tr>\n",
              "    <tr>\n",
              "      <th>June</th>\n",
              "      <td>529614</td>\n",
              "      <td>569174</td>\n",
              "      <td>639309</td>\n",
              "      <td>747018</td>\n",
              "      <td>791949</td>\n",
              "      <td>8821</td>\n",
              "      <td>10132</td>\n",
              "      <td>11905</td>\n",
              "      <td>12725</td>\n",
              "      <td>7896</td>\n",
              "    </tr>\n",
              "    <tr>\n",
              "      <th>March</th>\n",
              "      <td>517247</td>\n",
              "      <td>558019</td>\n",
              "      <td>613818</td>\n",
              "      <td>688011</td>\n",
              "      <td>915353</td>\n",
              "      <td>7536</td>\n",
              "      <td>8052</td>\n",
              "      <td>8886</td>\n",
              "      <td>10260</td>\n",
              "      <td>11959</td>\n",
              "    </tr>\n",
              "    <tr>\n",
              "      <th>May</th>\n",
              "      <td>540581</td>\n",
              "      <td>584946</td>\n",
              "      <td>649648</td>\n",
              "      <td>752068</td>\n",
              "      <td>862109</td>\n",
              "      <td>9945</td>\n",
              "      <td>11013</td>\n",
              "      <td>11640</td>\n",
              "      <td>12789</td>\n",
              "      <td>10068</td>\n",
              "    </tr>\n",
              "    <tr>\n",
              "      <th>November</th>\n",
              "      <td>538347</td>\n",
              "      <td>577468</td>\n",
              "      <td>632774</td>\n",
              "      <td>777091</td>\n",
              "      <td>761985</td>\n",
              "      <td>6354</td>\n",
              "      <td>6475</td>\n",
              "      <td>7337</td>\n",
              "      <td>8503</td>\n",
              "      <td>7353</td>\n",
              "    </tr>\n",
              "    <tr>\n",
              "      <th>October</th>\n",
              "      <td>539354</td>\n",
              "      <td>587945</td>\n",
              "      <td>630254</td>\n",
              "      <td>762691</td>\n",
              "      <td>780643</td>\n",
              "      <td>7940</td>\n",
              "      <td>8512</td>\n",
              "      <td>8759</td>\n",
              "      <td>9715</td>\n",
              "      <td>7087</td>\n",
              "    </tr>\n",
              "    <tr>\n",
              "      <th>September</th>\n",
              "      <td>532556</td>\n",
              "      <td>574424</td>\n",
              "      <td>627867</td>\n",
              "      <td>756104</td>\n",
              "      <td>774946</td>\n",
              "      <td>7256</td>\n",
              "      <td>8001</td>\n",
              "      <td>8147</td>\n",
              "      <td>9828</td>\n",
              "      <td>6340</td>\n",
              "    </tr>\n",
              "  </tbody>\n",
              "</table>\n",
              "</div>"
            ],
            "text/plain": [
              "          AveragePrice                          ...  Sales                     \n",
              "Year              2013    2014    2015    2016  ...   2014   2015   2016   2017\n",
              "Month                                           ...                            \n",
              "April           524823  578354  636094  739762  ...   9660  11254  12016  11470\n",
              "August          501742  546482  603534  710978  ...   7568   7943   9748   6310\n",
              "December        520189  556259  608714  730124  ...   4418   4917   5305   4930\n",
              "February        509447  552859  596320  685628  ...   5696   6294   7582   7955\n",
              "January         482028  526965  552925  630193  ...   4103   4318   4640   5155\n",
              "July            512286  550625  608875  710471  ...   9152   9813   9929   5871\n",
              "June            529614  569174  639309  747018  ...  10132  11905  12725   7896\n",
              "March           517247  558019  613818  688011  ...   8052   8886  10260  11959\n",
              "May             540581  584946  649648  752068  ...  11013  11640  12789  10068\n",
              "November        538347  577468  632774  777091  ...   6475   7337   8503   7353\n",
              "October         539354  587945  630254  762691  ...   8512   8759   9715   7087\n",
              "September       532556  574424  627867  756104  ...   8001   8147   9828   6340\n",
              "\n",
              "[12 rows x 10 columns]"
            ]
          },
          "metadata": {
            "tags": []
          },
          "execution_count": 79
        }
      ]
    },
    {
      "cell_type": "code",
      "metadata": {
        "id": "5Q3GD-EGcfLP"
      },
      "source": [
        "del new_sales['AveragePrice']"
      ],
      "execution_count": null,
      "outputs": []
    },
    {
      "cell_type": "code",
      "metadata": {
        "colab": {
          "base_uri": "https://localhost:8080/",
          "height": 462
        },
        "id": "EQ0m_nPwcnFD",
        "outputId": "733c3d8a-ae5d-4fb5-c632-c12705a8cae8"
      },
      "source": [
        "new_sales"
      ],
      "execution_count": null,
      "outputs": [
        {
          "output_type": "execute_result",
          "data": {
            "text/html": [
              "<div>\n",
              "<style scoped>\n",
              "    .dataframe tbody tr th:only-of-type {\n",
              "        vertical-align: middle;\n",
              "    }\n",
              "\n",
              "    .dataframe tbody tr th {\n",
              "        vertical-align: top;\n",
              "    }\n",
              "\n",
              "    .dataframe thead tr th {\n",
              "        text-align: left;\n",
              "    }\n",
              "\n",
              "    .dataframe thead tr:last-of-type th {\n",
              "        text-align: right;\n",
              "    }\n",
              "</style>\n",
              "<table border=\"1\" class=\"dataframe\">\n",
              "  <thead>\n",
              "    <tr>\n",
              "      <th></th>\n",
              "      <th colspan=\"5\" halign=\"left\">Sales</th>\n",
              "    </tr>\n",
              "    <tr>\n",
              "      <th>Year</th>\n",
              "      <th>2013</th>\n",
              "      <th>2014</th>\n",
              "      <th>2015</th>\n",
              "      <th>2016</th>\n",
              "      <th>2017</th>\n",
              "    </tr>\n",
              "    <tr>\n",
              "      <th>Month</th>\n",
              "      <th></th>\n",
              "      <th></th>\n",
              "      <th></th>\n",
              "      <th></th>\n",
              "      <th></th>\n",
              "    </tr>\n",
              "  </thead>\n",
              "  <tbody>\n",
              "    <tr>\n",
              "      <th>April</th>\n",
              "      <td>9537</td>\n",
              "      <td>9660</td>\n",
              "      <td>11254</td>\n",
              "      <td>12016</td>\n",
              "      <td>11470</td>\n",
              "    </tr>\n",
              "    <tr>\n",
              "      <th>August</th>\n",
              "      <td>7390</td>\n",
              "      <td>7568</td>\n",
              "      <td>7943</td>\n",
              "      <td>9748</td>\n",
              "      <td>6310</td>\n",
              "    </tr>\n",
              "    <tr>\n",
              "      <th>December</th>\n",
              "      <td>4058</td>\n",
              "      <td>4418</td>\n",
              "      <td>4917</td>\n",
              "      <td>5305</td>\n",
              "      <td>4930</td>\n",
              "    </tr>\n",
              "    <tr>\n",
              "      <th>February</th>\n",
              "      <td>5615</td>\n",
              "      <td>5696</td>\n",
              "      <td>6294</td>\n",
              "      <td>7582</td>\n",
              "      <td>7955</td>\n",
              "    </tr>\n",
              "    <tr>\n",
              "      <th>January</th>\n",
              "      <td>4230</td>\n",
              "      <td>4103</td>\n",
              "      <td>4318</td>\n",
              "      <td>4640</td>\n",
              "      <td>5155</td>\n",
              "    </tr>\n",
              "    <tr>\n",
              "      <th>July</th>\n",
              "      <td>8367</td>\n",
              "      <td>9152</td>\n",
              "      <td>9813</td>\n",
              "      <td>9929</td>\n",
              "      <td>5871</td>\n",
              "    </tr>\n",
              "    <tr>\n",
              "      <th>June</th>\n",
              "      <td>8821</td>\n",
              "      <td>10132</td>\n",
              "      <td>11905</td>\n",
              "      <td>12725</td>\n",
              "      <td>7896</td>\n",
              "    </tr>\n",
              "    <tr>\n",
              "      <th>March</th>\n",
              "      <td>7536</td>\n",
              "      <td>8052</td>\n",
              "      <td>8886</td>\n",
              "      <td>10260</td>\n",
              "      <td>11959</td>\n",
              "    </tr>\n",
              "    <tr>\n",
              "      <th>May</th>\n",
              "      <td>9945</td>\n",
              "      <td>11013</td>\n",
              "      <td>11640</td>\n",
              "      <td>12789</td>\n",
              "      <td>10068</td>\n",
              "    </tr>\n",
              "    <tr>\n",
              "      <th>November</th>\n",
              "      <td>6354</td>\n",
              "      <td>6475</td>\n",
              "      <td>7337</td>\n",
              "      <td>8503</td>\n",
              "      <td>7353</td>\n",
              "    </tr>\n",
              "    <tr>\n",
              "      <th>October</th>\n",
              "      <td>7940</td>\n",
              "      <td>8512</td>\n",
              "      <td>8759</td>\n",
              "      <td>9715</td>\n",
              "      <td>7087</td>\n",
              "    </tr>\n",
              "    <tr>\n",
              "      <th>September</th>\n",
              "      <td>7256</td>\n",
              "      <td>8001</td>\n",
              "      <td>8147</td>\n",
              "      <td>9828</td>\n",
              "      <td>6340</td>\n",
              "    </tr>\n",
              "  </tbody>\n",
              "</table>\n",
              "</div>"
            ],
            "text/plain": [
              "          Sales                            \n",
              "Year       2013   2014   2015   2016   2017\n",
              "Month                                      \n",
              "April      9537   9660  11254  12016  11470\n",
              "August     7390   7568   7943   9748   6310\n",
              "December   4058   4418   4917   5305   4930\n",
              "February   5615   5696   6294   7582   7955\n",
              "January    4230   4103   4318   4640   5155\n",
              "July       8367   9152   9813   9929   5871\n",
              "June       8821  10132  11905  12725   7896\n",
              "March      7536   8052   8886  10260  11959\n",
              "May        9945  11013  11640  12789  10068\n",
              "November   6354   6475   7337   8503   7353\n",
              "October    7940   8512   8759   9715   7087\n",
              "September  7256   8001   8147   9828   6340"
            ]
          },
          "metadata": {
            "tags": []
          },
          "execution_count": 81
        }
      ]
    },
    {
      "cell_type": "code",
      "metadata": {
        "colab": {
          "base_uri": "https://localhost:8080/",
          "height": 591
        },
        "id": "znEdLYtZgd1h",
        "outputId": "b5dfaa17-6691-435e-c5ca-88327ebf913c"
      },
      "source": [
        "post_pivot = new_sales.sum(axis = 0, skipna = True)\n",
        "\n",
        "plt.figure(figsize=(15,8))\n",
        "plt.title('Yearly sales : POST-PIVOT',fontsize=30)\n",
        "post_pivot.plot.bar()\n",
        "plt.xlabel('Years',fontsize=20)\n",
        "plt.ylabel('Sales',fontsize=20)\n",
        "plt.savefig('Fig_4_3_b_Desai_Ashutosh.png')"
      ],
      "execution_count": null,
      "outputs": [
        {
          "output_type": "display_data",
          "data": {
            "image/png": "[encoded data removed]",
            "text/plain": [
              "<Figure size 1080x576 with 1 Axes>"
            ]
          },
          "metadata": {
            "tags": [],
            "needs_background": "light"
          }
        }
      ]
    }
  ]
}